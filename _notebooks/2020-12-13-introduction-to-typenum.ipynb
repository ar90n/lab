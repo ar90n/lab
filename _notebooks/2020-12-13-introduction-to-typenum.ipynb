{
 "cells": [
  {
   "cell_type": "markdown",
   "metadata": {},
   "source": [
    "# 型レベル整数ライブラリtypenumの紹介\n",
    "> \"Introduction to typenum\"\n",
    "\n",
    "- toc: true\n",
    "- categories: [Rust]"
   ]
  },
  {
   "cell_type": "markdown",
   "metadata": {},
   "source": [
    "## はじめに\n",
    "型レベル整数とは，型によって整数を表現する方法です．この型とは整数を表す`i32`や文字列を表す`String`と同様のものです．すなわち，１を表す型や，2を表す型を定義し，それらによって整数を型レベルで表現します．\n",
    "\n",
    "型レベル整数の嬉しい点として，型レベル整数による式はコンパイル時に評価されることが挙げられます．これによって，各種定数を容易に設定することが可能となります．\n",
    "\n",
    "Rustにて型レベル整数の実装として，typenumというクレートがあります．ここでは，このtypenumの簡単な使用方法を紹介します．"
   ]
  },
  {
   "cell_type": "markdown",
   "metadata": {},
   "source": [
    "## やったこと\n",
    "\n",
    " * typenumによる型レベル整数の定義\n",
    " * typenumによってサポートされる演算の評価"
   ]
  },
  {
   "cell_type": "markdown",
   "metadata": {},
   "source": [
    "## 実際に型レベル整数を使ってみる\n",
    "\n",
    "それでは，実際にtypenumを使用して整数の演算を行っていきます．まず，`1+2`を計算する例を以下に示します． ここで，`P1`と`P2`はそれぞれ`1`と`2`を，`Sum`は加算を表します．また，`to_i32()`は型レベル整数が示す値を`i32`へ変換する処理です．"
   ]
  },
  {
   "cell_type": "code",
   "execution_count": 2,
   "metadata": {},
   "outputs": [],
   "source": [
    ":dep typenum\n",
    "//above line is magic for adding crate\n",
    "\n",
    "use typenum::*;\n",
    "\n",
    "type A = Sum<P1, P2>; // A is P3\n",
    "assert_eq!(A::to_i32(), 3); //  A::to_i32() == 3"
   ]
  },
  {
   "cell_type": "markdown",
   "metadata": {},
   "source": [
    "以上の結果より，適切に型レベルで`1+2`が計算出来たことがわかります．　次はもう少し複雑な例について考えます．以下に示すコードは，型レベル整数を用いて，`((1 + 2 ) * 3 - 4) / 5`を計算します．ここで，`Quot`は除算を，`Diff`は減算を，`Prod`は乗算を表します．"
   ]
  },
  {
   "cell_type": "code",
   "execution_count": 3,
   "metadata": {},
   "outputs": [],
   "source": [
    "use typenum::*;\n",
    "\n",
    "type A = Quot<Diff<Prod<Sum<P1, P2>, P3>, P4>, P5>; // A is P1\n",
    "assert_eq!(A::to_i32(), 1); //  A::to_i32() == 1"
   ]
  },
  {
   "cell_type": "markdown",
   "metadata": {},
   "source": [
    "ここでは，最低限の演算しか紹介しませんでしたが，typenumにはこれら以外にも多くの機能が実装されています．興味のある方は，是非確認してみてください．"
   ]
  },
  {
   "cell_type": "markdown",
   "metadata": {},
   "source": [
    "## 参考\n",
    "1. [typenum](https://docs.rs/typenum/1.12.0/typenum/index.html)"
   ]
  }
 ],
 "metadata": {
  "kernelspec": {
   "display_name": "Rust",
   "language": "rust",
   "name": "rust"
  },
  "language_info": {
   "codemirror_mode": "rust",
   "file_extension": ".rs",
   "mimetype": "text/rust",
   "name": "Rust",
   "pygment_lexer": "rust",
   "version": ""
  }
 },
 "nbformat": 4,
 "nbformat_minor": 4
}
