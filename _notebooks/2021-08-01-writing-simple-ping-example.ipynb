{
 "cells": [
  {
   "cell_type": "markdown",
   "id": "976722d4-2ae1-4be5-ab30-8827d01aadd8",
   "metadata": {},
   "source": [
    "# Pythonでpingの実装してみる\n",
    "> \"Writing simple ping example\"\n",
    "\n",
    "- toc: true\n",
    "- categories: [Python, Network]"
   ]
  },
  {
   "cell_type": "markdown",
   "id": "b5435fef-85e8-4530-937e-c68a4fe35d12",
   "metadata": {},
   "source": [
    "## はじめに\n",
    "ネットワークの疎通確認を行う際など，pingコマンドにお世話になっている方は多いと思います．私も勿論その一人です．\n",
    "ですが，実際pingは何をしているのか？という点は前々理解していませんでした．そこで，pythonにてpingのサブセット（エコー要求とエコー応答のみ）を実装してみました．"
   ]
  },
  {
   "cell_type": "markdown",
   "id": "c9dddf4e-e527-4379-bc58-1b73c1d6dbcc",
   "metadata": {},
   "source": [
    "## やったこと\n",
    "\n",
    "* Pythonでpingコマンドのサブセットを実装\n",
    "* エコー要求に対してエコー応答が返信されることを確認"
   ]
  },
  {
   "cell_type": "markdown",
   "id": "a812f5ca-da8b-45e9-adcd-76dc9e32aa3f",
   "metadata": {},
   "source": [
    "## ICMPについて\n",
    "ICMPとはInternet Control Message Protocolの略称です．名前の通り，インターネットの通信に関する情報の送信に用いられます．\n",
    "pingコマンドは，このプロトコルのエコー要求とエコー応答という二つのメッセージをやりとりすることで，端末間の疎通確認を行います．\n",
    "\n",
    "エコー要求とエコー応答のパケットフォーマットは以下の通りです．\n",
    "\n",
    "![svg image](data:image/svg+xml,%3Csvg%20viewBox%3D%220%200%20896%20408%22%20xmlns%3D%22http%3A%2F%2Fwww.w3.org%2F2000%2Fsvg%22%20xmlns%3Ainkspace%3D%22http%3A%2F%2Fwww.inkscape.org%2Fnamespaces%2Finkscape%22%20xmlns%3Axlink%3D%22http%3A%2F%2Fwww.w3.org%2F1999%2Fxlink%22%3E%0A%20%20%3Cdefs%20id%3D%22defs_block%22%3E%0A%20%20%20%20%3Cfilter%20height%3D%221.504%22%20id%3D%22filter_blur%22%20inkspace%3Acollect%3D%22always%22%20width%3D%221.1575%22%20x%3D%22-0.07875%22%20y%3D%22-0.252%22%3E%0A%20%20%20%20%20%20%3CfeGaussianBlur%20id%3D%22feGaussianBlur3780%22%20inkspace%3Acollect%3D%22always%22%20stdDeviation%3D%224.2%22%20%2F%3E%0A%20%20%20%20%3C%2Ffilter%3E%0A%20%20%3C%2Fdefs%3E%0A%20%20%3Ctitle%3Eblockdiag%3C%2Ftitle%3E%0A%20%20%3Cdesc%3E%7B%0A%20%20colwidth%20%3D%2032%0A%20%20node_height%20%3D%2072%0A%0A%20%200-7%3A%20Type%0A%20%208-15%3A%20Code%0A%20%2016-31%3A%20Checksum%0A%20%2032-47%3A%20Identification%0A%20%2048-63%3A%20Sequence%20Number%0A%20%2064-95%3A%20Data%5Bcolheight%20%3D%202%5D%0A%7D%0A%3C%2Fdesc%3E%0A%20%20%3Cpath%20d%3D%22M%2064%2048%20L%2064%2080%22%20fill%3D%22none%22%20stroke%3D%22rgb%280%2C0%2C0%29%22%20%2F%3E%0A%20%20%3Ctext%20fill%3D%22rgb%280%2C0%2C0%29%22%20font-family%3D%22sans-serif%22%20font-size%3D%2211%22%20font-style%3D%22normal%22%20font-weight%3D%22normal%22%20text-anchor%3D%22middle%22%20textLength%3D%227%22%20x%3D%2264.5%22%20y%3D%2242%22%3E0%3C%2Ftext%3E%0A%20%20%3Cpath%20d%3D%22M%2088%2064%20L%2088%2080%22%20fill%3D%22none%22%20stroke%3D%22rgb%280%2C0%2C0%29%22%20%2F%3E%0A%20%20%3Cpath%20d%3D%22M%20112%2064%20L%20112%2080%22%20fill%3D%22none%22%20stroke%3D%22rgb%280%2C0%2C0%29%22%20%2F%3E%0A%20%20%3Cpath%20d%3D%22M%20136%2064%20L%20136%2080%22%20fill%3D%22none%22%20stroke%3D%22rgb%280%2C0%2C0%29%22%20%2F%3E%0A%20%20%3Cpath%20d%3D%22M%20160%2064%20L%20160%2080%22%20fill%3D%22none%22%20stroke%3D%22rgb%280%2C0%2C0%29%22%20%2F%3E%0A%20%20%3Cpath%20d%3D%22M%20184%2064%20L%20184%2080%22%20fill%3D%22none%22%20stroke%3D%22rgb%280%2C0%2C0%29%22%20%2F%3E%0A%20%20%3Cpath%20d%3D%22M%20208%2064%20L%20208%2080%22%20fill%3D%22none%22%20stroke%3D%22rgb%280%2C0%2C0%29%22%20%2F%3E%0A%20%20%3Cpath%20d%3D%22M%20232%2064%20L%20232%2080%22%20fill%3D%22none%22%20stroke%3D%22rgb%280%2C0%2C0%29%22%20%2F%3E%0A%20%20%3Cpath%20d%3D%22M%20256%2048%20L%20256%2080%22%20fill%3D%22none%22%20stroke%3D%22rgb%280%2C0%2C0%29%22%20%2F%3E%0A%20%20%3Cpath%20d%3D%22M%20280%2064%20L%20280%2080%22%20fill%3D%22none%22%20stroke%3D%22rgb%280%2C0%2C0%29%22%20%2F%3E%0A%20%20%3Cpath%20d%3D%22M%20304%2064%20L%20304%2080%22%20fill%3D%22none%22%20stroke%3D%22rgb%280%2C0%2C0%29%22%20%2F%3E%0A%20%20%3Cpath%20d%3D%22M%20328%2064%20L%20328%2080%22%20fill%3D%22none%22%20stroke%3D%22rgb%280%2C0%2C0%29%22%20%2F%3E%0A%20%20%3Cpath%20d%3D%22M%20352%2064%20L%20352%2080%22%20fill%3D%22none%22%20stroke%3D%22rgb%280%2C0%2C0%29%22%20%2F%3E%0A%20%20%3Cpath%20d%3D%22M%20376%2064%20L%20376%2080%22%20fill%3D%22none%22%20stroke%3D%22rgb%280%2C0%2C0%29%22%20%2F%3E%0A%20%20%3Cpath%20d%3D%22M%20400%2064%20L%20400%2080%22%20fill%3D%22none%22%20stroke%3D%22rgb%280%2C0%2C0%29%22%20%2F%3E%0A%20%20%3Cpath%20d%3D%22M%20424%2064%20L%20424%2080%22%20fill%3D%22none%22%20stroke%3D%22rgb%280%2C0%2C0%29%22%20%2F%3E%0A%20%20%3Cpath%20d%3D%22M%20448%2048%20L%20448%2080%22%20fill%3D%22none%22%20stroke%3D%22rgb%280%2C0%2C0%29%22%20%2F%3E%0A%20%20%3Ctext%20fill%3D%22rgb%280%2C0%2C0%29%22%20font-family%3D%22sans-serif%22%20font-size%3D%2211%22%20font-style%3D%22normal%22%20font-weight%3D%22normal%22%20text-anchor%3D%22middle%22%20textLength%3D%2215%22%20x%3D%22448.5%22%20y%3D%2242%22%3E16%3C%2Ftext%3E%0A%20%20%3Cpath%20d%3D%22M%20472%2064%20L%20472%2080%22%20fill%3D%22none%22%20stroke%3D%22rgb%280%2C0%2C0%29%22%20%2F%3E%0A%20%20%3Cpath%20d%3D%22M%20496%2064%20L%20496%2080%22%20fill%3D%22none%22%20stroke%3D%22rgb%280%2C0%2C0%29%22%20%2F%3E%0A%20%20%3Cpath%20d%3D%22M%20520%2064%20L%20520%2080%22%20fill%3D%22none%22%20stroke%3D%22rgb%280%2C0%2C0%29%22%20%2F%3E%0A%20%20%3Cpath%20d%3D%22M%20544%2064%20L%20544%2080%22%20fill%3D%22none%22%20stroke%3D%22rgb%280%2C0%2C0%29%22%20%2F%3E%0A%20%20%3Cpath%20d%3D%22M%20568%2064%20L%20568%2080%22%20fill%3D%22none%22%20stroke%3D%22rgb%280%2C0%2C0%29%22%20%2F%3E%0A%20%20%3Cpath%20d%3D%22M%20592%2064%20L%20592%2080%22%20fill%3D%22none%22%20stroke%3D%22rgb%280%2C0%2C0%29%22%20%2F%3E%0A%20%20%3Cpath%20d%3D%22M%20616%2064%20L%20616%2080%22%20fill%3D%22none%22%20stroke%3D%22rgb%280%2C0%2C0%29%22%20%2F%3E%0A%20%20%3Cpath%20d%3D%22M%20640%2048%20L%20640%2080%22%20fill%3D%22none%22%20stroke%3D%22rgb%280%2C0%2C0%29%22%20%2F%3E%0A%20%20%3Cpath%20d%3D%22M%20664%2064%20L%20664%2080%22%20fill%3D%22none%22%20stroke%3D%22rgb%280%2C0%2C0%29%22%20%2F%3E%0A%20%20%3Cpath%20d%3D%22M%20688%2064%20L%20688%2080%22%20fill%3D%22none%22%20stroke%3D%22rgb%280%2C0%2C0%29%22%20%2F%3E%0A%20%20%3Cpath%20d%3D%22M%20712%2064%20L%20712%2080%22%20fill%3D%22none%22%20stroke%3D%22rgb%280%2C0%2C0%29%22%20%2F%3E%0A%20%20%3Cpath%20d%3D%22M%20736%2064%20L%20736%2080%22%20fill%3D%22none%22%20stroke%3D%22rgb%280%2C0%2C0%29%22%20%2F%3E%0A%20%20%3Cpath%20d%3D%22M%20760%2064%20L%20760%2080%22%20fill%3D%22none%22%20stroke%3D%22rgb%280%2C0%2C0%29%22%20%2F%3E%0A%20%20%3Cpath%20d%3D%22M%20784%2064%20L%20784%2080%22%20fill%3D%22none%22%20stroke%3D%22rgb%280%2C0%2C0%29%22%20%2F%3E%0A%20%20%3Cpath%20d%3D%22M%20808%2064%20L%20808%2080%22%20fill%3D%22none%22%20stroke%3D%22rgb%280%2C0%2C0%29%22%20%2F%3E%0A%20%20%3Cpath%20d%3D%22M%20832%2048%20L%20832%2080%22%20fill%3D%22none%22%20stroke%3D%22rgb%280%2C0%2C0%29%22%20%2F%3E%0A%20%20%3Ctext%20fill%3D%22rgb%280%2C0%2C0%29%22%20font-family%3D%22sans-serif%22%20font-size%3D%2211%22%20font-style%3D%22normal%22%20font-weight%3D%22normal%22%20text-anchor%3D%22middle%22%20textLength%3D%2215%22%20x%3D%22832.5%22%20y%3D%2242%22%3E32%3C%2Ftext%3E%0A%20%20%3Crect%20fill%3D%22rgb%28255%2C255%2C255%29%22%20height%3D%2272%22%20stroke%3D%22rgb%28255%2C255%2C255%29%22%20width%3D%22192%22%20x%3D%2264%22%20y%3D%2280%22%20%2F%3E%0A%20%20%3Cpath%20d%3D%22M%2064%2080%20L%20256%2080%22%20fill%3D%22none%22%20stroke%3D%22rgb%280%2C0%2C0%29%22%20%2F%3E%0A%20%20%3Cpath%20d%3D%22M%20256%2080%20L%20256%20152%22%20fill%3D%22none%22%20stroke%3D%22rgb%280%2C0%2C0%29%22%20%2F%3E%0A%20%20%3Cpath%20d%3D%22M%20256%20152%20L%2064%20152%22%20fill%3D%22none%22%20stroke%3D%22rgb%280%2C0%2C0%29%22%20%2F%3E%0A%20%20%3Cpath%20d%3D%22M%2064%20152%20L%2064%2080%22%20fill%3D%22none%22%20stroke%3D%22rgb%280%2C0%2C0%29%22%20%2F%3E%0A%20%20%3Ctext%20fill%3D%22rgb%280%2C0%2C0%29%22%20font-family%3D%22sans-serif%22%20font-size%3D%2211%22%20font-style%3D%22normal%22%20font-weight%3D%22normal%22%20text-anchor%3D%22middle%22%20textLength%3D%2226%22%20x%3D%22160.0%22%20y%3D%22122%22%3EType%3C%2Ftext%3E%0A%20%20%3Crect%20fill%3D%22rgb%28255%2C255%2C255%29%22%20height%3D%2272%22%20stroke%3D%22rgb%28255%2C255%2C255%29%22%20width%3D%22192%22%20x%3D%22256%22%20y%3D%2280%22%20%2F%3E%0A%20%20%3Cpath%20d%3D%22M%20256%2080%20L%20448%2080%22%20fill%3D%22none%22%20stroke%3D%22rgb%280%2C0%2C0%29%22%20%2F%3E%0A%20%20%3Cpath%20d%3D%22M%20448%2080%20L%20448%20152%22%20fill%3D%22none%22%20stroke%3D%22rgb%280%2C0%2C0%29%22%20%2F%3E%0A%20%20%3Cpath%20d%3D%22M%20448%20152%20L%20256%20152%22%20fill%3D%22none%22%20stroke%3D%22rgb%280%2C0%2C0%29%22%20%2F%3E%0A%20%20%3Cpath%20d%3D%22M%20256%20152%20L%20256%2080%22%20fill%3D%22none%22%20stroke%3D%22rgb%280%2C0%2C0%29%22%20%2F%3E%0A%20%20%3Ctext%20fill%3D%22rgb%280%2C0%2C0%29%22%20font-family%3D%22sans-serif%22%20font-size%3D%2211%22%20font-style%3D%22normal%22%20font-weight%3D%22normal%22%20text-anchor%3D%22middle%22%20textLength%3D%2226%22%20x%3D%22352.0%22%20y%3D%22122%22%3ECode%3C%2Ftext%3E%0A%20%20%3Crect%20fill%3D%22rgb%28255%2C255%2C255%29%22%20height%3D%2272%22%20stroke%3D%22rgb%28255%2C255%2C255%29%22%20width%3D%22384%22%20x%3D%22448%22%20y%3D%2280%22%20%2F%3E%0A%20%20%3Cpath%20d%3D%22M%20448%2080%20L%20832%2080%22%20fill%3D%22none%22%20stroke%3D%22rgb%280%2C0%2C0%29%22%20%2F%3E%0A%20%20%3Cpath%20d%3D%22M%20832%2080%20L%20832%20152%22%20fill%3D%22none%22%20stroke%3D%22rgb%280%2C0%2C0%29%22%20%2F%3E%0A%20%20%3Cpath%20d%3D%22M%20832%20152%20L%20448%20152%22%20fill%3D%22none%22%20stroke%3D%22rgb%280%2C0%2C0%29%22%20%2F%3E%0A%20%20%3Cpath%20d%3D%22M%20448%20152%20L%20448%2080%22%20fill%3D%22none%22%20stroke%3D%22rgb%280%2C0%2C0%29%22%20%2F%3E%0A%20%20%3Ctext%20fill%3D%22rgb%280%2C0%2C0%29%22%20font-family%3D%22sans-serif%22%20font-size%3D%2211%22%20font-style%3D%22normal%22%20font-weight%3D%22normal%22%20text-anchor%3D%22middle%22%20textLength%3D%2252%22%20x%3D%22640.0%22%20y%3D%22122%22%3EChecksum%3C%2Ftext%3E%0A%20%20%3Crect%20fill%3D%22rgb%28255%2C255%2C255%29%22%20height%3D%2272%22%20stroke%3D%22rgb%28255%2C255%2C255%29%22%20width%3D%22384%22%20x%3D%2264%22%20y%3D%22152%22%20%2F%3E%0A%20%20%3Cpath%20d%3D%22M%2064%20152%20L%20448%20152%22%20fill%3D%22none%22%20stroke%3D%22rgb%280%2C0%2C0%29%22%20%2F%3E%0A%20%20%3Cpath%20d%3D%22M%20448%20152%20L%20448%20224%22%20fill%3D%22none%22%20stroke%3D%22rgb%280%2C0%2C0%29%22%20%2F%3E%0A%20%20%3Cpath%20d%3D%22M%20448%20224%20L%2064%20224%22%20fill%3D%22none%22%20stroke%3D%22rgb%280%2C0%2C0%29%22%20%2F%3E%0A%20%20%3Cpath%20d%3D%22M%2064%20224%20L%2064%20152%22%20fill%3D%22none%22%20stroke%3D%22rgb%280%2C0%2C0%29%22%20%2F%3E%0A%20%20%3Ctext%20fill%3D%22rgb%280%2C0%2C0%29%22%20font-family%3D%22sans-serif%22%20font-size%3D%2211%22%20font-style%3D%22normal%22%20font-weight%3D%22normal%22%20text-anchor%3D%22middle%22%20textLength%3D%2261%22%20x%3D%22256.5%22%20y%3D%22194%22%3EIdentification%3C%2Ftext%3E%0A%20%20%3Crect%20fill%3D%22rgb%28255%2C255%2C255%29%22%20height%3D%2272%22%20stroke%3D%22rgb%28255%2C255%2C255%29%22%20width%3D%22384%22%20x%3D%22448%22%20y%3D%22152%22%20%2F%3E%0A%20%20%3Cpath%20d%3D%22M%20448%20152%20L%20832%20152%22%20fill%3D%22none%22%20stroke%3D%22rgb%280%2C0%2C0%29%22%20%2F%3E%0A%20%20%3Cpath%20d%3D%22M%20832%20152%20L%20832%20224%22%20fill%3D%22none%22%20stroke%3D%22rgb%280%2C0%2C0%29%22%20%2F%3E%0A%20%20%3Cpath%20d%3D%22M%20832%20224%20L%20448%20224%22%20fill%3D%22none%22%20stroke%3D%22rgb%280%2C0%2C0%29%22%20%2F%3E%0A%20%20%3Cpath%20d%3D%22M%20448%20224%20L%20448%20152%22%20fill%3D%22none%22%20stroke%3D%22rgb%280%2C0%2C0%29%22%20%2F%3E%0A%20%20%3Ctext%20fill%3D%22rgb%280%2C0%2C0%29%22%20font-family%3D%22sans-serif%22%20font-size%3D%2211%22%20font-style%3D%22normal%22%20font-weight%3D%22normal%22%20text-anchor%3D%22middle%22%20textLength%3D%2293%22%20x%3D%22640.5%22%20y%3D%22194%22%3ESequence%20Number%3C%2Ftext%3E%0A%20%20%3Crect%20fill%3D%22rgb%28255%2C255%2C255%29%22%20height%3D%22144%22%20stroke%3D%22rgb%28255%2C255%2C255%29%22%20width%3D%22768%22%20x%3D%2264%22%20y%3D%22224%22%20%2F%3E%0A%20%20%3Cpath%20d%3D%22M%2064%20224%20L%20832%20224%22%20fill%3D%22none%22%20stroke%3D%22rgb%280%2C0%2C0%29%22%20%2F%3E%0A%20%20%3Cpath%20d%3D%22M%20832%20224%20L%20832%20368%22%20fill%3D%22none%22%20stroke%3D%22rgb%280%2C0%2C0%29%22%20%2F%3E%0A%20%20%3Cpath%20d%3D%22M%20832%20368%20L%2064%20368%22%20fill%3D%22none%22%20stroke%3D%22rgb%280%2C0%2C0%29%22%20%2F%3E%0A%20%20%3Cpath%20d%3D%22M%2064%20368%20L%2064%20224%22%20fill%3D%22none%22%20stroke%3D%22rgb%280%2C0%2C0%29%22%20%2F%3E%0A%20%20%3Ctext%20fill%3D%22rgb%280%2C0%2C0%29%22%20font-family%3D%22sans-serif%22%20font-size%3D%2211%22%20font-style%3D%22normal%22%20font-weight%3D%22normal%22%20text-anchor%3D%22middle%22%20textLength%3D%2224%22%20x%3D%22448.0%22%20y%3D%22302%22%3EData%3C%2Ftext%3E%0A%3C%2Fsvg%3E%0A)\n",
    "\n",
    "なお，これらのメッセージはIPデータグラムのペイロードとして送受信されます．"
   ]
  },
  {
   "cell_type": "markdown",
   "id": "085632b4-edce-4f61-aa25-55cb36ae74c4",
   "metadata": {},
   "source": [
    "## Pythonによる実装\n",
    "### エコー要求とエコー応答に対応するデータ構造\n",
    "上述のパケットフォーマットにおける`Type`は，エコー要求では`8`が，エコー応答では`0`が設定されます．\n",
    "従って，以下のように`ICMPType`として定義することができます．"
   ]
  },
  {
   "cell_type": "code",
   "execution_count": 24,
   "id": "257f54c6",
   "metadata": {
    "lines_to_next_cell": 1,
    "scrolled": true
   },
   "outputs": [],
   "source": [
    "from enum import Enum\n",
    "\n",
    "class ICMPType(Enum):\n",
    "    ECHOREPLY = 0\n",
    "    ECHO = 8\n",
    "\n",
    "    def __int__(self):\n",
    "        return self.value"
   ]
  },
  {
   "cell_type": "markdown",
   "id": "2cc10e1d",
   "metadata": {},
   "source": [
    "また，パケットフォーマットからチェックサムフィールドを確認することができます．\n",
    "このチェックサムは以下の手順で計算します．\n",
    "\n",
    "1. チェックサムフィールドを`0`で埋める\n",
    "1. パケットを16ビット単位で区切る（パケット長が奇数バイトである場合は`0x00`を末尾に追加）\n",
    "1. 16ビット単位で区切ったデータを1の補数で加算していき合計値を求める\n",
    "1. 加算結果の1の補数を最終結果とする．この時，0の表現としては`0xffff`を用いる．\n",
    "\n",
    "以上の手順でチェックサムを計算する関数`calc_checksum`を以下のように定義します．"
   ]
  },
  {
   "cell_type": "code",
   "execution_count": 25,
   "id": "54741297",
   "metadata": {
    "lines_to_next_cell": 1
   },
   "outputs": [],
   "source": [
    "def calc_checksum(data: bytes) -> int:\n",
    "    if len(data) % 2 == 1:\n",
    "        data += b\"\\x00\"\n",
    "    u16_counts = len(data) // 2\n",
    "    checksum = sum(struct.unpack(f\"!{u16_counts}H\", data))\n",
    "    while 0xFFFF < checksum:\n",
    "        checksum = (checksum & 0xFFFF) + (checksum >> 16)\n",
    "    if checksum != 0xFFFF:\n",
    "        checksum = ~checksum\n",
    "    return checksum & 0xFFFF"
   ]
  },
  {
   "cell_type": "markdown",
   "id": "8041bcad",
   "metadata": {},
   "source": [
    "以下に示す`ICMPEcho`がエコー要求とエコー応答を表現するデータ構造となります．`checksum`がコンストラクタ引数として指定されなかった場合は，`calc_checksum`にて計算します．\n",
    "\n",
    "`ICMPEcho`はネットワークを通して送受信されます．従って，シリアライズを行う`to_bytes`と，デシリアライズを行う`from_bytes`を実装しています．"
   ]
  },
  {
   "cell_type": "code",
   "execution_count": 26,
   "id": "876cacd0-eef3-45d1-9484-1d0196ef7bf4",
   "metadata": {
    "lines_to_next_cell": 1
   },
   "outputs": [],
   "source": [
    "from dataclasses import dataclass\n",
    "from typing import Optional\n",
    "import struct\n",
    "\n",
    "@dataclass(frozen=True)\n",
    "class ICMPEcho:\n",
    "    type: ICMPType\n",
    "    code: int\n",
    "    id: int\n",
    "    seq: int\n",
    "    data: bytes\n",
    "    checksum: Optional[int] = None\n",
    "\n",
    "    def __post_init__(self):\n",
    "        if self.checksum is None:\n",
    "            object.__setattr__(self, \"checksum\", 0)\n",
    "            object.__setattr__(self, \"checksum\", calc_checksum(self.to_bytes()))\n",
    "\n",
    "    def to_bytes(self) -> bytes:\n",
    "        return struct.pack(\n",
    "            f\"!BBHHH{len(self.data)}s\",\n",
    "            int(self.type),\n",
    "            self.code,\n",
    "            self.checksum,\n",
    "            self.id,\n",
    "            self.seq,\n",
    "            self.data,\n",
    "        )\n",
    "\n",
    "    @classmethod\n",
    "    def from_bytes(cls, packed: bytes) -> \"ICMPEcho\":\n",
    "        _type, code, checksum, id, seq = struct.unpack(\"!BBHHH\", packed[:8])\n",
    "        type = ICMPType(_type)\n",
    "        data = packed[8:]\n",
    "        return ICMPEcho(type, code, id, seq, data, checksum=checksum)"
   ]
  },
  {
   "cell_type": "markdown",
   "id": "b24530d4-29b1-4582-9a07-f2527e978e11",
   "metadata": {},
   "source": [
    "### Rawソケットの作成\n",
    "TCPやUDPを用いた時と同様，ICMPでもソケットを用いてネットワークプログラミングを行います．\n",
    "しかしながら，ICMPパケットはIPデータグラムのペイロードとするため，IPデータグラムを操作する必要があります．\n",
    "\n",
    "IPデータグラムの操作はRawソケットを用いることで実現できます．そこで，ソケットを作成する関数`raw_socket`を以下のように定義しました．\n",
    "`socket.socket`の第２引数には`socket.SOCK_RAW`を第３引数には`socket.IPPROTO_ICMP`を指定します．これは，RawソケットをICMPから利用することを表していいます．"
   ]
  },
  {
   "cell_type": "code",
   "execution_count": 27,
   "id": "2dd58f2a-18c2-4668-bad0-d8df0b49129a",
   "metadata": {
    "lines_to_next_cell": 1
   },
   "outputs": [],
   "source": [
    "import socket\n",
    "from contextlib import contextmanager\n",
    "\n",
    "@contextmanager\n",
    "def raw_socket():\n",
    "    sock = socket.socket(socket.AF_INET, socket.SOCK_RAW, socket.IPPROTO_ICMP)\n",
    "    try:\n",
    "        yield sock\n",
    "    finally:\n",
    "        sock.close()"
   ]
  },
  {
   "cell_type": "markdown",
   "id": "58ec34d2-b051-4315-999d-a9f879ffef06",
   "metadata": {},
   "source": [
    "### IPデータグラムのパース\n",
    "Rawソケットによって受信したデータはIPデータグラムです．従って，これを適切にパースし，エコー応答をペイロードとして取り出す必要があります．\n",
    "今回，以下のようにIPヘッダを表現する`IPHeader`と，IPデータグラムをパースする`parse_ip_datagram`関数を実装しました．\n",
    "`parse_ip_datagram`関数では，受信したデータの先頭２０バイトから`IPHeader`インスタンスを作成し，残りのデータをペイロードとします．"
   ]
  },
  {
   "cell_type": "code",
   "execution_count": 28,
   "id": "0de4a3f0-5bc6-4428-bfa2-ea7bad86b6fe",
   "metadata": {
    "lines_to_next_cell": 1
   },
   "outputs": [],
   "source": [
    "from typing import Tuple\n",
    "\n",
    "@dataclass(frozen=True)\n",
    "class IPHeader:\n",
    "    v: int\n",
    "    hl: int\n",
    "    tos: int\n",
    "    len: int\n",
    "    id: int\n",
    "    off: int\n",
    "    ttl: int\n",
    "    p: int\n",
    "    sum: int\n",
    "    src: str\n",
    "    dst: str\n",
    "\n",
    "    @staticmethod\n",
    "    def from_bytes(packed: bytes) -> \"IPHeader\":\n",
    "        v_hl, tos, len, id, off, ttl, p, sum, src, dst = struct.unpack(\n",
    "            \"!BBHHHBBHII\", packed\n",
    "        )\n",
    "        v = v_hl >> 4\n",
    "        hl = v_hl & 0x0F\n",
    "\n",
    "        return IPHeader(\n",
    "            v,\n",
    "            hl,\n",
    "            tos,\n",
    "            len,\n",
    "            id,\n",
    "            off,\n",
    "            ttl,\n",
    "            p,\n",
    "            sum,\n",
    "            socket.inet_ntoa(src.to_bytes(4, byteorder=\"big\")),\n",
    "            socket.inet_ntoa(dst.to_bytes(4, byteorder=\"big\")),\n",
    "        )\n",
    "\n",
    "def parse_ip_datagram(data: bytes) -> Tuple[IPHeader, bytes]:\n",
    "    ip_header = IPHeader.from_bytes(data[:20])\n",
    "    payload = data[20:]\n",
    "    return (ip_header, payload)"
   ]
  },
  {
   "cell_type": "markdown",
   "id": "35f4672d",
   "metadata": {},
   "source": [
    "### エコー要求の送信とエコー応答の受信\n",
    "これまで実装してきた関数とデータ構造を用いて，エコー要求を送信しエコー応答を受信する関数`ping`を実装しました．\n",
    "以下に示されるように，エコー要求をソケットに書き込み，ソケットから読み取ったエコー応答とIPヘッダを出力します．"
   ]
  },
  {
   "cell_type": "code",
   "execution_count": 29,
   "id": "be20bc6f",
   "metadata": {
    "lines_to_next_cell": 1
   },
   "outputs": [],
   "source": [
    "def print_response(ip_header: IPHeader, echo_reply: ICMPEcho) -> None:\n",
    "    print(\n",
    "        f\"ping echo reply from {ip_header.src}: icmp_seq={echo_reply.seq} ttl={ip_header.ttl}\"\n",
    "    )\n",
    "\n",
    "\n",
    "def ping(host: str, seq: int) -> None:\n",
    "    with raw_socket() as sock:\n",
    "        packet = ICMPEcho(ICMPType.ECHO, 0, 0, seq, b\"\\xff\").to_bytes()\n",
    "        sock.sendto(packet, (host, 0))\n",
    "        ip_header, payload = parse_ip_datagram(sock.recvfrom(4096)[0])\n",
    "        echo_reply = ICMPEcho.from_bytes(payload)\n",
    "        print_response(ip_header, echo_reply)"
   ]
  },
  {
   "cell_type": "markdown",
   "id": "e0fa1798",
   "metadata": {},
   "source": [
    "### 実行結果\n",
    "実際に`8.8.8.8`に対して`ping`を呼び出した結果を以下に示します．\n",
    "エコー要求に対して適切なエコー応答が帰ってきていることが確認できます．"
   ]
  },
  {
   "cell_type": "code",
   "execution_count": 30,
   "id": "f2735fdf",
   "metadata": {},
   "outputs": [
    {
     "name": "stdout",
     "output_type": "stream",
     "text": [
      "ping echo reply from 8.8.8.8: icmp_seq=0 ttl=37\n",
      "ping echo reply from 8.8.8.8: icmp_seq=1 ttl=37\n",
      "ping echo reply from 8.8.8.8: icmp_seq=2 ttl=37\n",
      "ping echo reply from 8.8.8.8: icmp_seq=3 ttl=37\n",
      "ping echo reply from 8.8.8.8: icmp_seq=4 ttl=37\n",
      "ping echo reply from 8.8.8.8: icmp_seq=5 ttl=37\n",
      "ping echo reply from 8.8.8.8: icmp_seq=6 ttl=37\n",
      "ping echo reply from 8.8.8.8: icmp_seq=7 ttl=37\n",
      "ping echo reply from 8.8.8.8: icmp_seq=8 ttl=37\n",
      "ping echo reply from 8.8.8.8: icmp_seq=9 ttl=37\n"
     ]
    }
   ],
   "source": [
    "import time\n",
    "for i in range(10):\n",
    "    ping(\"8.8.8.8\", i)\n",
    "    time.sleep(1)"
   ]
  },
  {
   "cell_type": "markdown",
   "id": "67a6a283-2464-4a44-9516-b496bd929bb8",
   "metadata": {},
   "source": [
    "## 参考\n",
    "* 村山公保，2004年，基礎からわかるTCP/IP ネットワーク実験プログラミング（第2版），オーム社"
   ]
  }
 ],
 "metadata": {
  "jupytext": {
   "encoding": "# -*- coding: utf-8 -*-",
   "formats": "ipynb,py:hydrogen"
  },
  "kernelspec": {
   "display_name": "Python 3",
   "language": "python",
   "name": "python3"
  },
  "language_info": {
   "codemirror_mode": {
    "name": "ipython",
    "version": 3
   },
   "file_extension": ".py",
   "mimetype": "text/x-python",
   "name": "python",
   "nbconvert_exporter": "python",
   "pygments_lexer": "ipython3",
   "version": "3.8.5"
  }
 },
 "nbformat": 4,
 "nbformat_minor": 5
}
