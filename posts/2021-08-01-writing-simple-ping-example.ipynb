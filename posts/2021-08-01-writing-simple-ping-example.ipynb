{
 "cells": [
  {
   "cell_type": "raw",
   "metadata": {},
   "source": [
    "---\n",
    "aliases:\n",
    "- /Network/Python/2021/08/01/writing-simple-ping-example\n",
    "categories:\n",
    "- Python\n",
    "- Network\n",
    "date: '2021-08-01'\n",
    "description: Writing simple ping example\n",
    "output-file: 2021-08-01-writing-simple-ping-example.html\n",
    "title: \"Python\\u3067ping\\u306E\\u5B9F\\u88C5\\u3057\\u3066\\u307F\\u308B\"\n",
    "toc: true\n",
    "\n",
    "---\n",
    "\n"
   ]
  },
  {
   "cell_type": "markdown",
   "id": "b5435fef-85e8-4530-937e-c68a4fe35d12",
   "metadata": {},
   "source": [
    "## はじめに\n",
    "ネットワークの疎通確認を行う際など，pingコマンドにお世話になっている方は多いと思います．私も勿論その一人です．\n",
    "ですが，実際pingは何をしているのか？という点は前々理解していませんでした．そこで，pythonにてpingのサブセット（エコー要求とエコー応答のみ）を実装してみました．"
   ]
  },
  {
   "cell_type": "markdown",
   "id": "c9dddf4e-e527-4379-bc58-1b73c1d6dbcc",
   "metadata": {},
   "source": [
    "## やったこと\n",
    "\n",
    "* Pythonでpingコマンドのサブセットを実装\n",
    "* エコー要求に対してエコー応答が返信されることを確認"
   ]
  },
  {
   "cell_type": "markdown",
   "id": "a812f5ca-da8b-45e9-adcd-76dc9e32aa3f",
   "metadata": {},
   "source": [
    "## ICMPについて\n",
    "ICMPとはInternet Control Message Protocolの略称です．名前の通り，インターネットの通信に関する情報の送信に用いられます．\n",
    "pingコマンドは，このプロトコルのエコー要求とエコー応答という二つのメッセージをやりとりすることで，端末間の疎通確認を行います．\n",
    "\n",
    "エコー要求とエコー応答のパケットフォーマットは以下の通りです．\n",
    "\n",
    "![icmp spec](/assets/img/2021-08-01-writing-simple-ping-example/icmp_spec.svg)\n",
    "\n",
    "なお，これらのメッセージはIPデータグラムのペイロードとして送受信されます．"
   ]
  },
  {
   "cell_type": "markdown",
   "id": "085632b4-edce-4f61-aa25-55cb36ae74c4",
   "metadata": {},
   "source": [
    "## Pythonによる実装\n",
    "### エコー要求とエコー応答に対応するデータ構造\n",
    "上述のパケットフォーマットにおける`Type`は，エコー要求では`8`が，エコー応答では`0`が設定されます．\n",
    "従って，以下のように`ICMPType`として定義することができます．"
   ]
  },
  {
   "cell_type": "code",
   "execution_count": 24,
   "id": "257f54c6",
   "metadata": {
    "lines_to_next_cell": 1,
    "scrolled": true
   },
   "outputs": [],
   "source": [
    "from enum import Enum\n",
    "\n",
    "class ICMPType(Enum):\n",
    "    ECHOREPLY = 0\n",
    "    ECHO = 8\n",
    "\n",
    "    def __int__(self):\n",
    "        return self.value"
   ]
  },
  {
   "cell_type": "markdown",
   "id": "2cc10e1d",
   "metadata": {},
   "source": [
    "また，パケットフォーマットからチェックサムフィールドを確認することができます．\n",
    "このチェックサムは以下の手順で計算します．\n",
    "\n",
    "1. チェックサムフィールドを`0`で埋める\n",
    "1. パケットを16ビット単位で区切る（パケット長が奇数バイトである場合は`0x00`を末尾に追加）\n",
    "1. 16ビット単位で区切ったデータを1の補数で加算していき合計値を求める\n",
    "1. 加算結果の1の補数を最終結果とする．この時，0の表現としては`0xffff`を用いる．\n",
    "\n",
    "以上の手順でチェックサムを計算する関数`calc_checksum`を以下のように定義します．"
   ]
  },
  {
   "cell_type": "code",
   "execution_count": 25,
   "id": "54741297",
   "metadata": {
    "lines_to_next_cell": 1
   },
   "outputs": [],
   "source": [
    "def calc_checksum(data: bytes) -> int:\n",
    "    if len(data) % 2 == 1:\n",
    "        data += b\"\\x00\"\n",
    "    u16_counts = len(data) // 2\n",
    "    checksum = sum(struct.unpack(f\"!{u16_counts}H\", data))\n",
    "    while 0xFFFF < checksum:\n",
    "        checksum = (checksum & 0xFFFF) + (checksum >> 16)\n",
    "    if checksum != 0xFFFF:\n",
    "        checksum = ~checksum\n",
    "    return checksum & 0xFFFF"
   ]
  },
  {
   "cell_type": "markdown",
   "id": "8041bcad",
   "metadata": {},
   "source": [
    "以下に示す`ICMPEcho`がエコー要求とエコー応答を表現するデータ構造となります．`checksum`がコンストラクタ引数として指定されなかった場合は，`calc_checksum`にて計算します．\n",
    "\n",
    "`ICMPEcho`はネットワークを通して送受信されます．従って，シリアライズを行う`to_bytes`と，デシリアライズを行う`from_bytes`を実装しています．"
   ]
  },
  {
   "cell_type": "code",
   "execution_count": 26,
   "id": "876cacd0-eef3-45d1-9484-1d0196ef7bf4",
   "metadata": {
    "lines_to_next_cell": 1
   },
   "outputs": [],
   "source": [
    "from dataclasses import dataclass\n",
    "from typing import Optional\n",
    "import struct\n",
    "\n",
    "@dataclass(frozen=True)\n",
    "class ICMPEcho:\n",
    "    type: ICMPType\n",
    "    code: int\n",
    "    id: int\n",
    "    seq: int\n",
    "    data: bytes\n",
    "    checksum: Optional[int] = None\n",
    "\n",
    "    def __post_init__(self):\n",
    "        if self.checksum is None:\n",
    "            object.__setattr__(self, \"checksum\", 0)\n",
    "            object.__setattr__(self, \"checksum\", calc_checksum(self.to_bytes()))\n",
    "\n",
    "    def to_bytes(self) -> bytes:\n",
    "        return struct.pack(\n",
    "            f\"!BBHHH{len(self.data)}s\",\n",
    "            int(self.type),\n",
    "            self.code,\n",
    "            self.checksum,\n",
    "            self.id,\n",
    "            self.seq,\n",
    "            self.data,\n",
    "        )\n",
    "\n",
    "    @classmethod\n",
    "    def from_bytes(cls, packed: bytes) -> \"ICMPEcho\":\n",
    "        _type, code, checksum, id, seq = struct.unpack(\"!BBHHH\", packed[:8])\n",
    "        type = ICMPType(_type)\n",
    "        data = packed[8:]\n",
    "        return ICMPEcho(type, code, id, seq, data, checksum=checksum)"
   ]
  },
  {
   "cell_type": "markdown",
   "id": "b24530d4-29b1-4582-9a07-f2527e978e11",
   "metadata": {},
   "source": [
    "### Rawソケットの作成\n",
    "TCPやUDPを用いた時と同様，ICMPでもソケットを用いてネットワークプログラミングを行います．\n",
    "しかしながら，ICMPパケットはIPデータグラムのペイロードとするため，IPデータグラムを操作する必要があります．\n",
    "\n",
    "IPデータグラムの操作はRawソケットを用いることで実現できます．そこで，ソケットを作成する関数`raw_socket`を以下のように定義しました．\n",
    "`socket.socket`の第２引数には`socket.SOCK_RAW`を第３引数には`socket.IPPROTO_ICMP`を指定します．これは，RawソケットをICMPから利用することを表していいます．"
   ]
  },
  {
   "cell_type": "code",
   "execution_count": 27,
   "id": "2dd58f2a-18c2-4668-bad0-d8df0b49129a",
   "metadata": {
    "lines_to_next_cell": 1
   },
   "outputs": [],
   "source": [
    "import socket\n",
    "from contextlib import contextmanager\n",
    "\n",
    "@contextmanager\n",
    "def raw_socket():\n",
    "    sock = socket.socket(socket.AF_INET, socket.SOCK_RAW, socket.IPPROTO_ICMP)\n",
    "    try:\n",
    "        yield sock\n",
    "    finally:\n",
    "        sock.close()"
   ]
  },
  {
   "cell_type": "markdown",
   "id": "58ec34d2-b051-4315-999d-a9f879ffef06",
   "metadata": {},
   "source": [
    "### IPデータグラムのパース\n",
    "Rawソケットによって受信したデータはIPデータグラムです．従って，これを適切にパースし，エコー応答をペイロードとして取り出す必要があります．\n",
    "今回，以下のようにIPヘッダを表現する`IPHeader`と，IPデータグラムをパースする`parse_ip_datagram`関数を実装しました．\n",
    "`parse_ip_datagram`関数では，受信したデータの先頭２０バイトから`IPHeader`インスタンスを作成し，残りのデータをペイロードとします．"
   ]
  },
  {
   "cell_type": "code",
   "execution_count": 28,
   "id": "0de4a3f0-5bc6-4428-bfa2-ea7bad86b6fe",
   "metadata": {
    "lines_to_next_cell": 1
   },
   "outputs": [],
   "source": [
    "from typing import Tuple\n",
    "\n",
    "@dataclass(frozen=True)\n",
    "class IPHeader:\n",
    "    v: int\n",
    "    hl: int\n",
    "    tos: int\n",
    "    len: int\n",
    "    id: int\n",
    "    off: int\n",
    "    ttl: int\n",
    "    p: int\n",
    "    sum: int\n",
    "    src: str\n",
    "    dst: str\n",
    "\n",
    "    @staticmethod\n",
    "    def from_bytes(packed: bytes) -> \"IPHeader\":\n",
    "        v_hl, tos, len, id, off, ttl, p, sum, src, dst = struct.unpack(\n",
    "            \"!BBHHHBBHII\", packed\n",
    "        )\n",
    "        v = v_hl >> 4\n",
    "        hl = v_hl & 0x0F\n",
    "\n",
    "        return IPHeader(\n",
    "            v,\n",
    "            hl,\n",
    "            tos,\n",
    "            len,\n",
    "            id,\n",
    "            off,\n",
    "            ttl,\n",
    "            p,\n",
    "            sum,\n",
    "            socket.inet_ntoa(src.to_bytes(4, byteorder=\"big\")),\n",
    "            socket.inet_ntoa(dst.to_bytes(4, byteorder=\"big\")),\n",
    "        )\n",
    "\n",
    "def parse_ip_datagram(data: bytes) -> Tuple[IPHeader, bytes]:\n",
    "    ip_header = IPHeader.from_bytes(data[:20])\n",
    "    payload = data[20:]\n",
    "    return (ip_header, payload)"
   ]
  },
  {
   "cell_type": "markdown",
   "id": "35f4672d",
   "metadata": {},
   "source": [
    "### エコー要求の送信とエコー応答の受信\n",
    "これまで実装してきた関数とデータ構造を用いて，エコー要求を送信しエコー応答を受信する関数`ping`を実装しました．\n",
    "以下に示されるように，エコー要求をソケットに書き込み，ソケットから読み取ったエコー応答とIPヘッダを出力します．"
   ]
  },
  {
   "cell_type": "code",
   "execution_count": 29,
   "id": "be20bc6f",
   "metadata": {
    "lines_to_next_cell": 1
   },
   "outputs": [],
   "source": [
    "def print_response(ip_header: IPHeader, echo_reply: ICMPEcho) -> None:\n",
    "    print(\n",
    "        f\"ping echo reply from {ip_header.src}: icmp_seq={echo_reply.seq} ttl={ip_header.ttl}\"\n",
    "    )\n",
    "\n",
    "\n",
    "def ping(host: str, seq: int) -> None:\n",
    "    with raw_socket() as sock:\n",
    "        packet = ICMPEcho(ICMPType.ECHO, 0, 0, seq, b\"\\xff\").to_bytes()\n",
    "        sock.sendto(packet, (host, 0))\n",
    "        ip_header, payload = parse_ip_datagram(sock.recvfrom(4096)[0])\n",
    "        echo_reply = ICMPEcho.from_bytes(payload)\n",
    "        print_response(ip_header, echo_reply)"
   ]
  },
  {
   "cell_type": "markdown",
   "id": "e0fa1798",
   "metadata": {},
   "source": [
    "### 実行結果\n",
    "実際に`8.8.8.8`に対して`ping`を呼び出した結果を以下に示します．\n",
    "エコー要求に対して適切なエコー応答が帰ってきていることが確認できます．"
   ]
  },
  {
   "cell_type": "code",
   "execution_count": 30,
   "id": "f2735fdf",
   "metadata": {},
   "outputs": [
    {
     "name": "stdout",
     "output_type": "stream",
     "text": [
      "ping echo reply from 8.8.8.8: icmp_seq=0 ttl=37\n",
      "ping echo reply from 8.8.8.8: icmp_seq=1 ttl=37\n",
      "ping echo reply from 8.8.8.8: icmp_seq=2 ttl=37\n",
      "ping echo reply from 8.8.8.8: icmp_seq=3 ttl=37\n",
      "ping echo reply from 8.8.8.8: icmp_seq=4 ttl=37\n",
      "ping echo reply from 8.8.8.8: icmp_seq=5 ttl=37\n",
      "ping echo reply from 8.8.8.8: icmp_seq=6 ttl=37\n",
      "ping echo reply from 8.8.8.8: icmp_seq=7 ttl=37\n",
      "ping echo reply from 8.8.8.8: icmp_seq=8 ttl=37\n",
      "ping echo reply from 8.8.8.8: icmp_seq=9 ttl=37\n"
     ]
    }
   ],
   "source": [
    "import time\n",
    "for i in range(10):\n",
    "    ping(\"8.8.8.8\", i)\n",
    "    time.sleep(1)"
   ]
  },
  {
   "cell_type": "markdown",
   "id": "67a6a283-2464-4a44-9516-b496bd929bb8",
   "metadata": {},
   "source": [
    "## 参考\n",
    "* 村山公保，2004年，基礎からわかるTCP/IP ネットワーク実験プログラミング（第2版），オーム社"
   ]
  }
 ],
 "metadata": {
  "jupytext": {
   "encoding": "# -*- coding: utf-8 -*-",
   "formats": "ipynb,py:hydrogen"
  },
  "kernelspec": {
   "display_name": "Python 3",
   "language": "python",
   "name": "python3"
  },
  "language_info": {
   "codemirror_mode": {
    "name": "ipython",
    "version": 3
   },
   "file_extension": ".py",
   "mimetype": "text/x-python",
   "name": "python",
   "nbconvert_exporter": "python",
   "pygments_lexer": "ipython3",
   "version": "3.8.5"
  }
 },
 "nbformat": 4,
 "nbformat_minor": 5
}
