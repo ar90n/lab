{
 "cells": [
  {
   "cell_type": "code",
   "execution_count": 103,
   "metadata": {
    "run_control": {
     "marked": true
    },
    "scrolled": true,
    "slideshow": {
     "slide_type": "notes"
    }
   },
   "outputs": [
    {
     "data": {
      "text/plain": [
       "{u'start_slideshow_at': 'selected', u'theme': 'simple', u'transition': 'slide'}"
      ]
     },
     "execution_count": 103,
     "metadata": {},
     "output_type": "execute_result"
    }
   ],
   "source": [
    "from traitlets.config.manager import BaseJSONConfigManager\n",
    "path = \"/opt/jupyter_config/nbconfig\"\n",
    "cm = BaseJSONConfigManager(config_dir=path)\n",
    "cm.update(\"livereveal\", {\n",
    "               \"theme\": \"simple\",\n",
    "              \"transition\": \"slide\",\n",
    "              \"start_slideshow_at\": \"selected\",\n",
    "})"
   ]
  },
  {
   "cell_type": "code",
   "execution_count": 104,
   "metadata": {
    "slideshow": {
     "slide_type": "notes"
    }
   },
   "outputs": [
    {
     "data": {
      "text/html": [
       "<style>\n",
       "body {\n",
       "  background-color: #EEE !important;\n",
       "  border-bottom: solid 20px #CEC0DA !important;\n",
       "}\n",
       "\n",
       "div .title {\n",
       "    text-align: right\n",
       "}\n",
       "\n",
       "div .two-column {\n",
       "    display: flex;\n",
       "    justify-content: center;\n",
       "}\n",
       "\n",
       "div#icon {\n",
       "    flex-basis: 300px;\n",
       "    margin: 30px 80px 30px 80px;\n",
       "}\n",
       "\n",
       "img#icon{\n",
       "    width: 100%;\n",
       "}\n",
       "\n",
       "img#big-img{\n",
       "    width: 70%;\n",
       "    margin: 75px;\n",
       "}\n",
       "\n",
       "div .big-sentence {\n",
       "    font-size: 187.5%;\n",
       "    font-weight: bold;\n",
       "    color: black;\n",
       "    margin: 75px;\n",
       "}\n",
       "\n",
       "dl#spec {\n",
       "}\n",
       "</style>"
      ],
      "text/plain": [
       "<IPython.core.display.HTML object>"
      ]
     },
     "metadata": {},
     "output_type": "display_data"
    }
   ],
   "source": [
    "%%HTML\n",
    "<style>\n",
    "body {\n",
    "  background-color: #EEE !important;\n",
    "  border-bottom: solid 20px #CEC0DA !important;\n",
    "}\n",
    "\n",
    "div .title {\n",
    "    text-align: right\n",
    "}\n",
    "\n",
    "div .two-column {\n",
    "    display: flex;\n",
    "    justify-content: center;\n",
    "}\n",
    "\n",
    "div#icon {\n",
    "    flex-basis: 300px;\n",
    "    margin: 30px 80px 30px 80px;\n",
    "}\n",
    "\n",
    "img#icon{\n",
    "    width: 100%;\n",
    "}\n",
    "\n",
    "img#big-img{\n",
    "    width: 70%;\n",
    "    margin: 75px;\n",
    "}\n",
    "\n",
    "div .big-sentence {\n",
    "    font-size: 187.5%;\n",
    "    font-weight: bold;\n",
    "    color: black;\n",
    "    margin: 75px;\n",
    "}\n",
    "\n",
    "dl#spec {\n",
    "}\n",
    "</style>"
   ]
  },
  {
   "cell_type": "markdown",
   "metadata": {
    "slideshow": {
     "slide_type": "slide"
    }
   },
   "source": [
    "# <div class=title>グラフ・ネットワークアルゴリズム 勉強会 </div>\n",
    "# <div class=title> by IMACEL Academy #1 </div>\n",
    "### <div class=title>2018/01/27 ar90n </div>"
   ]
  },
  {
   "cell_type": "markdown",
   "metadata": {
    "slideshow": {
     "slide_type": "slide"
    }
   },
   "source": [
    "## 発表者"
   ]
  },
  {
   "cell_type": "markdown",
   "metadata": {
    "slideshow": {
     "slide_type": "slide"
    }
   },
   "source": [
    "<div class=two-column>\n",
    "<div id=icon>\n",
    "    <img id=icon src=https://avatars3.githubusercontent.com/u/2285892?s=230&v=4/>\n",
    "</div>\n",
    "<dl id=spec>\n",
    "  <dt>名前</dt>\n",
    "  <dd>ar90n(和田政弘)</dd>\n",
    "  <dt>所属</dt>\n",
    "  <dd>エルピクセル株式会社</dd>\n",
    "  <dt>興味</dt>\n",
    "  <dd>C++,画像処理,娘</dd>\n",
    "  <dt>GitHub</dt>\n",
    "  <dd>ar90n</dt>\n",
    "</dl>\n",
    "</div>"
   ]
  },
  {
   "cell_type": "markdown",
   "metadata": {
    "slideshow": {
     "slide_type": "slide"
    }
   },
   "source": [
    "## 宣伝"
   ]
  },
  {
   "cell_type": "markdown",
   "metadata": {
    "slideshow": {
     "slide_type": "slide"
    }
   },
   "source": [
    "<center> \n",
    "    <div class=big-sentence>皆さん</div>\n",
    "    <img id=big-img src=\"https://lpixel.net/wp-content/themes/lpixel-1-0/images/logo-lpixel.svg\" />\n",
    "     <div class=big-sentence>ご存知ですか？ </div>\n",
    "</center>"
   ]
  },
  {
   "cell_type": "markdown",
   "metadata": {
    "slideshow": {
     "slide_type": "subslide"
    }
   },
   "source": [
    "<center> \n",
    "    <img id=big-img src=\"https://lpixel.net/wp-content/themes/lpixel-1-0/images/logo-lpixel.svg\" />\n",
    "    <div class=big-sentence>は</div>\n",
    "    <div class=big-sentence>ライフサイエンス領域の画像解析に強みを持つ東京大学発のベンチャー企業です</div>\n",
    "</center>"
   ]
  },
  {
   "cell_type": "markdown",
   "metadata": {
    "slideshow": {
     "slide_type": "subslide"
    }
   },
   "source": [
    "<center> \n",
    "    <div class=big-sentence>ライフサイエンス<br>画像処理プラットフォーム</div>\n",
    "    <img id=big-img src=\"https://imacel.net/wp-content/themes/imacel-1-0/images/imacel_logo.png\" />\n",
    "</center>"
   ]
  },
  {
   "cell_type": "markdown",
   "metadata": {
    "slideshow": {
     "slide_type": "subslide"
    }
   },
   "source": [
    "<center> \n",
    "    <div class=big-sentence>医療画像診断支援技術</div>\n",
    "    <img id=big-img src=\"https://eirl.ai/wp-content/themes/eirl/assets/images/common/ttl_h1.png\" />\n",
    "</center>"
   ]
  },
  {
   "cell_type": "markdown",
   "metadata": {
    "slideshow": {
     "slide_type": "subslide"
    }
   },
   "source": [
    "<center> \n",
    "    <div class=big-sentence>などの開発を行なっています</div>\n",
    "</center>"
   ]
  },
  {
   "attachments": {},
   "cell_type": "markdown",
   "metadata": {
    "slideshow": {
     "slide_type": "subslide"
    }
   },
   "source": [
    "<center> \n",
    "    <div class=big-sentence>只今，一緒に働いてくれる人を募集中です！</div>\n",
    "</center>"
   ]
  },
  {
   "cell_type": "markdown",
   "metadata": {
    "slideshow": {
     "slide_type": "subslide"
    }
   },
   "source": [
    "<center> \n",
    "    <img src=\"./rec00.png\"/>\n",
    "</center>"
   ]
  },
  {
   "cell_type": "markdown",
   "metadata": {
    "slideshow": {
     "slide_type": "subslide"
    }
   },
   "source": [
    "<center> \n",
    "    <img src=\"./rec01.png\"/>\n",
    "</center>"
   ]
  },
  {
   "cell_type": "markdown",
   "metadata": {
    "slideshow": {
     "slide_type": "subslide"
    }
   },
   "source": [
    "<center> \n",
    "    <div class=big-sentence>などなど，色々ありますので興味を持った人は是非Wantedlyで検索してみてください！</div>\n",
    "</center>"
   ]
  },
  {
   "cell_type": "markdown",
   "metadata": {
    "slideshow": {
     "slide_type": "slide"
    }
   },
   "source": [
    "## 今日話すこと"
   ]
  },
  {
   "cell_type": "code",
   "execution_count": null,
   "metadata": {},
   "outputs": [],
   "source": []
  },
  {
   "cell_type": "code",
   "execution_count": null,
   "metadata": {},
   "outputs": [],
   "source": []
  }
 ],
 "metadata": {
  "celltoolbar": "Slideshow",
  "kernelspec": {
   "display_name": "Python 2",
   "language": "python",
   "name": "python2"
  },
  "language_info": {
   "codemirror_mode": {
    "name": "ipython",
    "version": 2
   },
   "file_extension": ".py",
   "mimetype": "text/x-python",
   "name": "python",
   "nbconvert_exporter": "python",
   "pygments_lexer": "ipython2",
   "version": "2.7.12"
  },
  "latex_envs": {
   "LaTeX_envs_menu_present": true,
   "autoclose": false,
   "autocomplete": true,
   "bibliofile": "biblio.bib",
   "cite_by": "apalike",
   "current_citInitial": 1,
   "eqLabelWithNumbers": true,
   "eqNumInitial": 1,
   "hotkeys": {
    "equation": "Ctrl-E",
    "itemize": "Ctrl-I"
   },
   "labels_anchors": false,
   "latex_user_defs": false,
   "report_style_numbering": false,
   "user_envs_cfg": false
  }
 },
 "nbformat": 4,
 "nbformat_minor": 2
}
