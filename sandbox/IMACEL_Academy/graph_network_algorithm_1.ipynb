{
 "cells": [
  {
   "cell_type": "code",
   "execution_count": 54,
   "metadata": {
    "run_control": {
     "marked": true
    },
    "scrolled": true,
    "slideshow": {
     "slide_type": "notes"
    }
   },
   "outputs": [
    {
     "data": {
      "text/plain": [
       "{u'scroll': True,\n",
       " u'start_slideshow_at': 'selected',\n",
       " u'theme': 'solarized',\n",
       " u'transition': 'slide'}"
      ]
     },
     "execution_count": 54,
     "metadata": {},
     "output_type": "execute_result"
    }
   ],
   "source": [
    "from traitlets.config.manager import BaseJSONConfigManager\n",
    "path = \"/opt/jupyter_config/nbconfig\"\n",
    "cm = BaseJSONConfigManager(config_dir=path)\n",
    "cm.update(\"livereveal\", {\n",
    "              \"theme\": \"solarized\",\n",
    "              \"transition\": \"slide\",\n",
    "              \"start_slideshow_at\": \"selected\",\n",
    "              \"scroll\": True\n",
    "})"
   ]
  },
  {
   "cell_type": "code",
   "execution_count": 55,
   "metadata": {
    "slideshow": {
     "slide_type": "notes"
    }
   },
   "outputs": [
    {
     "data": {
      "text/html": [
       "<style>\n",
       "@import url(https://fonts.googleapis.com/css?family=Lato:400,700,400italic,700italic);\n",
       "/**\n",
       " * Solarized Light theme for reveal.js.\n",
       " * Author: Achim Staebler\n",
       " */\n",
       "@font-face {\n",
       "  font-family: 'League Gothic';\n",
       "  src: url(\"../../lib/font/league_gothic-webfont.eot\");\n",
       "  src: url(\"../../lib/font/league_gothic-webfont.eot?#iefix\") format(\"embedded-opentype\"), url(\"../../lib/font/league_gothic-webfont.woff\") format(\"woff\"), url(\"../../lib/font/league_gothic-webfont.ttf\") format(\"truetype\"), url(\"../../lib/font/league_gothic-webfont.svg#LeagueGothicRegular\") format(\"svg\");\n",
       "  font-weight: normal;\n",
       "  font-style: normal;\n",
       "}\n",
       "\n",
       "/**\n",
       " * Solarized colors by Ethan Schoonover\n",
       " */\n",
       "html * {\n",
       "  color-profile: sRGB;\n",
       "  rendering-intent: auto;\n",
       "}\n",
       "\n",
       "/*********************************************\n",
       " * GLOBAL STYLES\n",
       " *********************************************/\n",
       "body {\n",
       "  background: #fdf6e3 !important;\n",
       "  background-color: #fdf6e3 !important;\n",
       "}\n",
       "\n",
       ".reveal {\n",
       "  font-family: \"Lato\", sans-serif !important;\n",
       "  font-size: 36px;\n",
       "  font-weight: normal;\n",
       "  letter-spacing: -0.02em;\n",
       "  color: #657b83 !important;\n",
       "}\n",
       "\n",
       "::selection {\n",
       "  color: white;\n",
       "  background: #d33682;\n",
       "  text-shadow: none;\n",
       "}\n",
       "\n",
       "/*********************************************\n",
       " * HEADERS\n",
       " *********************************************/\n",
       ".reveal h1,\n",
       ".reveal h2,\n",
       ".reveal h3,\n",
       ".reveal h4,\n",
       ".reveal h5,\n",
       ".reveal h6 {\n",
       "  margin: 0 0 20px 0;\n",
       "  color: #586e75 !important;\n",
       "  font-family: \"League Gothic\", Impact, sans-serif !important;\n",
       "  line-height: 0.9em;\n",
       "  letter-spacing: 0.02em;\n",
       "  text-shadow: none;\n",
       "}\n",
       "\n",
       ".reveal h1 {\n",
       "  text-shadow: 0px 0px 6px rgba(0, 0, 0, 0.2);\n",
       "}\n",
       "\n",
       "/*********************************************\n",
       " * LINKS\n",
       " *********************************************/\n",
       ".reveal a:not(.image) {\n",
       "  color: #268bd2;\n",
       "  text-decoration: none;\n",
       "  -webkit-transition: color .15s ease;\n",
       "  -moz-transition: color .15s ease;\n",
       "  -ms-transition: color .15s ease;\n",
       "  -o-transition: color .15s ease;\n",
       "  transition: color .15s ease;\n",
       "}\n",
       "\n",
       ".reveal a:not(.image):hover {\n",
       "  color: #78b9e6;\n",
       "  text-shadow: none;\n",
       "  border: none;\n",
       "}\n",
       "\n",
       ".reveal .roll span:after {\n",
       "  color: #fff;\n",
       "  background: #1a6091;\n",
       "}\n",
       "\n",
       "/*********************************************\n",
       " * IMAGES\n",
       " *********************************************/\n",
       ".reveal section img {\n",
       "  margin: 15px 0px;\n",
       "  background: rgba(255, 255, 255, 0.12);\n",
       "  border: 4px solid #657b83;\n",
       "  box-shadow: 0 0 10px rgba(0, 0, 0, 0.15);\n",
       "  -webkit-transition: all .2s linear;\n",
       "  -moz-transition: all .2s linear;\n",
       "  -ms-transition: all .2s linear;\n",
       "  -o-transition: all .2s linear;\n",
       "  transition: all .2s linear;\n",
       "}\n",
       "\n",
       ".reveal a:hover img {\n",
       "  background: rgba(255, 255, 255, 0.2);\n",
       "  border-color: #268bd2;\n",
       "  box-shadow: 0 0 20px rgba(0, 0, 0, 0.55);\n",
       "}\n",
       "\n",
       "/*********************************************\n",
       " * NAVIGATION CONTROLS\n",
       " *********************************************/\n",
       ".reveal .controls div.navigate-left,\n",
       ".reveal .controls div.navigate-left.enabled {\n",
       "  border-right-color: #268bd2;\n",
       "}\n",
       "\n",
       ".reveal .controls div.navigate-right,\n",
       ".reveal .controls div.navigate-right.enabled {\n",
       "  border-left-color: #268bd2;\n",
       "}\n",
       "\n",
       ".reveal .controls div.navigate-up,\n",
       ".reveal .controls div.navigate-up.enabled {\n",
       "  border-bottom-color: #268bd2;\n",
       "}\n",
       "\n",
       ".reveal .controls div.navigate-down,\n",
       ".reveal .controls div.navigate-down.enabled {\n",
       "  border-top-color: #268bd2;\n",
       "}\n",
       "\n",
       ".reveal .controls div.navigate-left.enabled:hover {\n",
       "  border-right-color: #78b9e6;\n",
       "}\n",
       "\n",
       ".reveal .controls div.navigate-right.enabled:hover {\n",
       "  border-left-color: #78b9e6;\n",
       "}\n",
       "\n",
       ".reveal .controls div.navigate-up.enabled:hover {\n",
       "  border-bottom-color: #78b9e6;\n",
       "}\n",
       "\n",
       ".reveal .controls div.navigate-down.enabled:hover {\n",
       "  border-top-color: #78b9e6;\n",
       "}\n",
       "\n",
       "/*********************************************\n",
       " * PROGRESS BAR\n",
       " *********************************************/\n",
       ".reveal .progress {\n",
       "  background: rgba(0, 0, 0, 0.2);\n",
       "}\n",
       "\n",
       ".reveal .progress span {\n",
       "  background: #268bd2;\n",
       "  -webkit-transition: width 800ms cubic-bezier(0.26, 0.86, 0.44, 0.985);\n",
       "  -moz-transition: width 800ms cubic-bezier(0.26, 0.86, 0.44, 0.985);\n",
       "  -ms-transition: width 800ms cubic-bezier(0.26, 0.86, 0.44, 0.985);\n",
       "  -o-transition: width 800ms cubic-bezier(0.26, 0.86, 0.44, 0.985);\n",
       "  transition: width 800ms cubic-bezier(0.26, 0.86, 0.44, 0.985);\n",
       "}\n",
       "\n",
       "/*********************************************\n",
       " * SLIDE NUMBER\n",
       " *********************************************/\n",
       ".reveal .slide-number {\n",
       "  color: #268bd2; \n",
       "}\n",
       "\n",
       ".reveal .title {\n",
       "    text-align: right\n",
       "}\n",
       "\n",
       ".reveal .two-column {\n",
       "    display: flex;\n",
       "    justify-content: center;\n",
       "}\n",
       "\n",
       "div#icon {\n",
       "    flex-basis: 300px;\n",
       "    margin: 30px 80px 30px 80px;\n",
       "}\n",
       "\n",
       "img#icon{\n",
       "    width: 100%;\n",
       "}\n",
       "\n",
       "img#big-img{\n",
       "    width: 70%;\n",
       "    margin: 75px;\n",
       "}\n",
       "\n",
       ".reveal .big-sentence {\n",
       "    font-size: 187.5%;\n",
       "    font-weight: bold; \n",
       "    margin: 75px;\n",
       "}\n",
       "\n",
       "#dl#spec {\n",
       "#}\n",
       "\n",
       "</style>"
      ],
      "text/plain": [
       "<IPython.core.display.HTML object>"
      ]
     },
     "metadata": {},
     "output_type": "display_data"
    }
   ],
   "source": [
    "%%HTML\n",
    "<style>\n",
    "@import url(https://fonts.googleapis.com/css?family=Lato:400,700,400italic,700italic);\n",
    "/**\n",
    " * Solarized Light theme for reveal.js.\n",
    " * Author: Achim Staebler\n",
    " */\n",
    "@font-face {\n",
    "  font-family: 'League Gothic';\n",
    "  src: url(\"../../lib/font/league_gothic-webfont.eot\");\n",
    "  src: url(\"../../lib/font/league_gothic-webfont.eot?#iefix\") format(\"embedded-opentype\"), url(\"../../lib/font/league_gothic-webfont.woff\") format(\"woff\"), url(\"../../lib/font/league_gothic-webfont.ttf\") format(\"truetype\"), url(\"../../lib/font/league_gothic-webfont.svg#LeagueGothicRegular\") format(\"svg\");\n",
    "  font-weight: normal;\n",
    "  font-style: normal;\n",
    "}\n",
    "\n",
    "/**\n",
    " * Solarized colors by Ethan Schoonover\n",
    " */\n",
    "html * {\n",
    "  color-profile: sRGB;\n",
    "  rendering-intent: auto;\n",
    "}\n",
    "\n",
    "/*********************************************\n",
    " * GLOBAL STYLES\n",
    " *********************************************/\n",
    "body {\n",
    "  background: #fdf6e3 !important;\n",
    "  background-color: #fdf6e3 !important;\n",
    "}\n",
    "\n",
    ".reveal {\n",
    "  font-family: \"Lato\", sans-serif !important;\n",
    "  font-size: 36px;\n",
    "  font-weight: normal;\n",
    "  letter-spacing: -0.02em;\n",
    "  color: #657b83 !important;\n",
    "}\n",
    "\n",
    "::selection {\n",
    "  color: white;\n",
    "  background: #d33682;\n",
    "  text-shadow: none;\n",
    "}\n",
    "\n",
    "/*********************************************\n",
    " * HEADERS\n",
    " *********************************************/\n",
    ".reveal h1,\n",
    ".reveal h2,\n",
    ".reveal h3,\n",
    ".reveal h4,\n",
    ".reveal h5,\n",
    ".reveal h6 {\n",
    "  margin: 0 0 20px 0;\n",
    "  color: #586e75 !important;\n",
    "  font-family: \"League Gothic\", Impact, sans-serif !important;\n",
    "  line-height: 0.9em;\n",
    "  letter-spacing: 0.02em;\n",
    "  text-shadow: none;\n",
    "}\n",
    "\n",
    ".reveal h1 {\n",
    "  text-shadow: 0px 0px 6px rgba(0, 0, 0, 0.2);\n",
    "}\n",
    "\n",
    "/*********************************************\n",
    " * LINKS\n",
    " *********************************************/\n",
    ".reveal a:not(.image) {\n",
    "  color: #268bd2;\n",
    "  text-decoration: none;\n",
    "  -webkit-transition: color .15s ease;\n",
    "  -moz-transition: color .15s ease;\n",
    "  -ms-transition: color .15s ease;\n",
    "  -o-transition: color .15s ease;\n",
    "  transition: color .15s ease;\n",
    "}\n",
    "\n",
    ".reveal a:not(.image):hover {\n",
    "  color: #78b9e6;\n",
    "  text-shadow: none;\n",
    "  border: none;\n",
    "}\n",
    "\n",
    ".reveal .roll span:after {\n",
    "  color: #fff;\n",
    "  background: #1a6091;\n",
    "}\n",
    "\n",
    "/*********************************************\n",
    " * IMAGES\n",
    " *********************************************/\n",
    ".reveal section img {\n",
    "  margin: 15px 0px;\n",
    "  background: rgba(255, 255, 255, 0.12);\n",
    "  border: 4px solid #657b83;\n",
    "  box-shadow: 0 0 10px rgba(0, 0, 0, 0.15);\n",
    "  -webkit-transition: all .2s linear;\n",
    "  -moz-transition: all .2s linear;\n",
    "  -ms-transition: all .2s linear;\n",
    "  -o-transition: all .2s linear;\n",
    "  transition: all .2s linear;\n",
    "}\n",
    "\n",
    ".reveal a:hover img {\n",
    "  background: rgba(255, 255, 255, 0.2);\n",
    "  border-color: #268bd2;\n",
    "  box-shadow: 0 0 20px rgba(0, 0, 0, 0.55);\n",
    "}\n",
    "\n",
    "/*********************************************\n",
    " * NAVIGATION CONTROLS\n",
    " *********************************************/\n",
    ".reveal .controls div.navigate-left,\n",
    ".reveal .controls div.navigate-left.enabled {\n",
    "  border-right-color: #268bd2;\n",
    "}\n",
    "\n",
    ".reveal .controls div.navigate-right,\n",
    ".reveal .controls div.navigate-right.enabled {\n",
    "  border-left-color: #268bd2;\n",
    "}\n",
    "\n",
    ".reveal .controls div.navigate-up,\n",
    ".reveal .controls div.navigate-up.enabled {\n",
    "  border-bottom-color: #268bd2;\n",
    "}\n",
    "\n",
    ".reveal .controls div.navigate-down,\n",
    ".reveal .controls div.navigate-down.enabled {\n",
    "  border-top-color: #268bd2;\n",
    "}\n",
    "\n",
    ".reveal .controls div.navigate-left.enabled:hover {\n",
    "  border-right-color: #78b9e6;\n",
    "}\n",
    "\n",
    ".reveal .controls div.navigate-right.enabled:hover {\n",
    "  border-left-color: #78b9e6;\n",
    "}\n",
    "\n",
    ".reveal .controls div.navigate-up.enabled:hover {\n",
    "  border-bottom-color: #78b9e6;\n",
    "}\n",
    "\n",
    ".reveal .controls div.navigate-down.enabled:hover {\n",
    "  border-top-color: #78b9e6;\n",
    "}\n",
    "\n",
    "/*********************************************\n",
    " * PROGRESS BAR\n",
    " *********************************************/\n",
    ".reveal .progress {\n",
    "  background: rgba(0, 0, 0, 0.2);\n",
    "}\n",
    "\n",
    ".reveal .progress span {\n",
    "  background: #268bd2;\n",
    "  -webkit-transition: width 800ms cubic-bezier(0.26, 0.86, 0.44, 0.985);\n",
    "  -moz-transition: width 800ms cubic-bezier(0.26, 0.86, 0.44, 0.985);\n",
    "  -ms-transition: width 800ms cubic-bezier(0.26, 0.86, 0.44, 0.985);\n",
    "  -o-transition: width 800ms cubic-bezier(0.26, 0.86, 0.44, 0.985);\n",
    "  transition: width 800ms cubic-bezier(0.26, 0.86, 0.44, 0.985);\n",
    "}\n",
    "\n",
    "/*********************************************\n",
    " * SLIDE NUMBER\n",
    " *********************************************/\n",
    ".reveal .slide-number {\n",
    "  color: #268bd2; \n",
    "}\n",
    "\n",
    ".reveal .title {\n",
    "    text-align: right\n",
    "}\n",
    "\n",
    ".reveal .two-column {\n",
    "    display: flex;\n",
    "    justify-content: center;\n",
    "}\n",
    "\n",
    "div#icon {\n",
    "    flex-basis: 300px;\n",
    "    margin: 30px 80px 30px 80px;\n",
    "}\n",
    "\n",
    "img#icon{\n",
    "    width: 100%;\n",
    "}\n",
    "\n",
    "img#big-img{\n",
    "    width: 70%;\n",
    "    margin: 75px;\n",
    "}\n",
    "\n",
    ".reveal .big-sentence {\n",
    "    font-size: 187.5%;\n",
    "    font-weight: bold; \n",
    "    margin: 75px;\n",
    "}\n",
    "\n",
    "#dl#spec {\n",
    "#}\n",
    "\n",
    "</style>"
   ]
  },
  {
   "cell_type": "code",
   "execution_count": 56,
   "metadata": {
    "slideshow": {
     "slide_type": "notes"
    }
   },
   "outputs": [],
   "source": [
    "def draw_graph(G):\n",
    "    import networkx as nx\n",
    "    nx.nx_agraph.write_dot(G,'tmp.dot')\n",
    "    !dot -Tpng -Kneato tmp.dot > graph.png\n",
    "    from IPython.display import Image\n",
    "    return Image(\"graph.png\")"
   ]
  },
  {
   "cell_type": "markdown",
   "metadata": {
    "slideshow": {
     "slide_type": "slide"
    }
   },
   "source": [
    "# <div class=title>グラフ・ネットワークアルゴリズム 勉強会 </div>\n",
    "# <div class=title> by IMACEL Academy #1 </div>\n",
    "### <div class=title>2018/01/27 ar90n </div>"
   ]
  },
  {
   "cell_type": "markdown",
   "metadata": {
    "slideshow": {
     "slide_type": "slide"
    }
   },
   "source": [
    "## 発表者"
   ]
  },
  {
   "cell_type": "markdown",
   "metadata": {
    "slideshow": {
     "slide_type": "slide"
    }
   },
   "source": [
    "<div class=two-column>\n",
    "<div id=icon>\n",
    "    <img id=icon src=https://avatars3.githubusercontent.com/u/2285892?s=230&v=4/>\n",
    "</div>\n",
    "<dl id=spec>\n",
    "  <dt>名前</dt>\n",
    "  <dd>ar90n(和田政弘)</dd>\n",
    "  <dt>所属</dt>\n",
    "  <dd>エルピクセル株式会社</dd>\n",
    "  <dt>興味</dt>\n",
    "  <dd>C++,画像処理,娘</dd>\n",
    "  <dt>GitHub</dt>\n",
    "  <dd>@ar90n</dt>\n",
    "</dl>\n",
    "</div>"
   ]
  },
  {
   "cell_type": "markdown",
   "metadata": {
    "slideshow": {
     "slide_type": "slide"
    }
   },
   "source": [
    "## 宣伝"
   ]
  },
  {
   "cell_type": "markdown",
   "metadata": {
    "slideshow": {
     "slide_type": "slide"
    }
   },
   "source": [
    "<center> \n",
    "    <div class=big-sentence>皆さん</div>\n",
    "    <img id=big-img src=\"https://lpixel.net/wp-content/themes/lpixel-1-0/images/logo-lpixel.svg\" />\n",
    "     <div class=big-sentence>ご存知ですか？ </div>\n",
    "</center>"
   ]
  },
  {
   "cell_type": "markdown",
   "metadata": {
    "slideshow": {
     "slide_type": "subslide"
    }
   },
   "source": [
    "<center> \n",
    "    <img id=big-img src=\"https://lpixel.net/wp-content/themes/lpixel-1-0/images/logo-lpixel.svg\" />\n",
    "    <div class=big-sentence>は</div>\n",
    "    <div class=big-sentence>ライフサイエンス領域の画像解析に強みを持つ東京大学発のベンチャー企業です</div>\n",
    "</center>"
   ]
  },
  {
   "cell_type": "markdown",
   "metadata": {
    "slideshow": {
     "slide_type": "subslide"
    }
   },
   "source": [
    "<center> \n",
    "    <div class=big-sentence>ライフサイエンス<br>画像処理プラットフォーム</div>\n",
    "    <img id=big-img src=\"https://imacel.net/wp-content/themes/imacel-1-0/images/imacel_logo.png\" />\n",
    "</center>"
   ]
  },
  {
   "cell_type": "markdown",
   "metadata": {
    "slideshow": {
     "slide_type": "subslide"
    }
   },
   "source": [
    "<center> \n",
    "    <div class=big-sentence>医療画像診断支援技術</div>\n",
    "    <img id=big-img src=\"https://eirl.ai/wp-content/themes/eirl/assets/images/common/ttl_h1.png\" />\n",
    "</center>"
   ]
  },
  {
   "cell_type": "markdown",
   "metadata": {
    "slideshow": {
     "slide_type": "subslide"
    }
   },
   "source": [
    "<center> \n",
    "    <div class=big-sentence>などの開発を行なっています</div>\n",
    "</center>"
   ]
  },
  {
   "cell_type": "markdown",
   "metadata": {
    "slideshow": {
     "slide_type": "subslide"
    }
   },
   "source": [
    "<center> \n",
    "    <div class=big-sentence>只今，一緒に働いてくれる人を募集中！</div>\n",
    "</center>"
   ]
  },
  {
   "cell_type": "markdown",
   "metadata": {
    "slideshow": {
     "slide_type": "subslide"
    }
   },
   "source": [
    "<center> \n",
    "    <img src=\"./rec00.png\"/>\n",
    "</center>"
   ]
  },
  {
   "cell_type": "markdown",
   "metadata": {
    "slideshow": {
     "slide_type": "subslide"
    }
   },
   "source": [
    "<center> \n",
    "    <img src=\"./rec01.png\"/>\n",
    "</center>"
   ]
  },
  {
   "cell_type": "markdown",
   "metadata": {
    "slideshow": {
     "slide_type": "subslide"
    }
   },
   "source": [
    "<center> \n",
    "    <div class=big-sentence>などなど，色々ありますので興味を持った人は是非Wantedlyで検索してみてください！</div>\n",
    "</center>"
   ]
  },
  {
   "cell_type": "markdown",
   "metadata": {
    "slideshow": {
     "slide_type": "slide"
    }
   },
   "source": [
    "## 今日話すこと"
   ]
  },
  {
   "cell_type": "markdown",
   "metadata": {
    "slideshow": {
     "slide_type": "slide"
    }
   },
   "source": [
    "1. 用語の確認\n",
    "1. 実装法の確認"
   ]
  },
  {
   "cell_type": "markdown",
   "metadata": {
    "slideshow": {
     "slide_type": "slide"
    }
   },
   "source": [
    "## 用語の確認"
   ]
  },
  {
   "cell_type": "markdown",
   "metadata": {
    "slideshow": {
     "slide_type": "slide"
    }
   },
   "source": [
    "### グラフ"
   ]
  },
  {
   "cell_type": "markdown",
   "metadata": {
    "slideshow": {
     "slide_type": "-"
    }
   },
   "source": [
    "有限個の点集合とその２点を結ぶ辺の有限集合からなる数理モデル．  \n",
    "点集合を$V$，辺集合を$E$として$G = (V,E)$と表記される．"
   ]
  },
  {
   "cell_type": "code",
   "execution_count": 39,
   "metadata": {
    "slideshow": {
     "slide_type": "subslide"
    }
   },
   "outputs": [
    {
     "data": {
      "image/png": "[encoded data removed]",
      "text/plain": [
       "<IPython.core.display.Image object>"
      ]
     },
     "execution_count": 39,
     "metadata": {},
     "output_type": "execute_result"
    }
   ],
   "source": [
    "import networkx as nx\n",
    "from numpy.random import randint\n",
    "n,m  = 20, 20 \n",
    "G = nx.MultiGraph()\n",
    "G.add_nodes_from(range(n))\n",
    "G.add_edges_from([tuple(a) for a in randint(0,n,(m,2))])\n",
    "\n",
    "draw_graph(G)"
   ]
  },
  {
   "cell_type": "markdown",
   "metadata": {
    "slideshow": {
     "slide_type": "slide"
    }
   },
   "source": [
    "### 端点"
   ]
  },
  {
   "cell_type": "markdown",
   "metadata": {},
   "source": [
    "辺$e \\in E$で結ばれる２点$u,v$のこと"
   ]
  },
  {
   "cell_type": "markdown",
   "metadata": {
    "slideshow": {
     "slide_type": "-"
    }
   },
   "source": [
    "### 隣接"
   ]
  },
  {
   "cell_type": "markdown",
   "metadata": {},
   "source": [
    "辺$e$における端点$u$と$v$の関係"
   ]
  },
  {
   "cell_type": "markdown",
   "metadata": {},
   "source": [
    "### 接続"
   ]
  },
  {
   "cell_type": "markdown",
   "metadata": {},
   "source": [
    "辺$e$と端点$(u,v)$の関係．辺$e$は点$u$と$v$を接続しているという"
   ]
  },
  {
   "cell_type": "code",
   "execution_count": 40,
   "metadata": {
    "slideshow": {
     "slide_type": "subslide"
    }
   },
   "outputs": [
    {
     "data": {
      "image/png": "[encoded data removed]",
      "text/plain": [
       "<IPython.core.display.Image object>"
      ]
     },
     "execution_count": 40,
     "metadata": {},
     "output_type": "execute_result"
    }
   ],
   "source": [
    "import networkx as nx\n",
    "G = nx.MultiGraph()\n",
    "G.add_nodes_from(['u','v'])\n",
    "G.add_edge('u','v',label='e')\n",
    "\n",
    "draw_graph(G)"
   ]
  },
  {
   "cell_type": "markdown",
   "metadata": {
    "slideshow": {
     "slide_type": "slide"
    }
   },
   "source": [
    "### 有向辺"
   ]
  },
  {
   "cell_type": "markdown",
   "metadata": {},
   "source": [
    "端点$u$から$v$へ向きを有する辺．辺$e$が有向辺であるとき，$e = (u,v)$と記述する．"
   ]
  },
  {
   "cell_type": "markdown",
   "metadata": {},
   "source": [
    "### 始点"
   ]
  },
  {
   "cell_type": "markdown",
   "metadata": {},
   "source": [
    "有向辺$e=(u,v)$における点$u$"
   ]
  },
  {
   "cell_type": "markdown",
   "metadata": {},
   "source": [
    "### 終点"
   ]
  },
  {
   "cell_type": "markdown",
   "metadata": {},
   "source": [
    "有向辺$e=(u,v)$における点$v$"
   ]
  },
  {
   "cell_type": "markdown",
   "metadata": {},
   "source": [
    "### 無向辺"
   ]
  },
  {
   "cell_type": "markdown",
   "metadata": {},
   "source": [
    "端点間に向きを有しない辺"
   ]
  },
  {
   "cell_type": "code",
   "execution_count": 41,
   "metadata": {
    "slideshow": {
     "slide_type": "subslide"
    }
   },
   "outputs": [
    {
     "data": {
      "image/png": "[encoded data removed]",
      "text/plain": [
       "<IPython.core.display.Image object>"
      ]
     },
     "execution_count": 41,
     "metadata": {},
     "output_type": "execute_result"
    }
   ],
   "source": [
    "import networkx as nx\n",
    "\n",
    "G = nx.MultiGraph()\n",
    "G.add_nodes_from(['u','v'])\n",
    "G.add_edge('u','v', label='e')\n",
    "draw_graph(G)"
   ]
  },
  {
   "cell_type": "code",
   "execution_count": 42,
   "metadata": {},
   "outputs": [
    {
     "data": {
      "image/png": "[encoded data removed]",
      "text/plain": [
       "<IPython.core.display.Image object>"
      ]
     },
     "execution_count": 42,
     "metadata": {},
     "output_type": "execute_result"
    }
   ],
   "source": [
    "import networkx as nx\n",
    "\n",
    "G = nx.MultiDiGraph()\n",
    "G.add_nodes_from(['u','v'])\n",
    "G.add_edge('u','v', label='e')\n",
    "draw_graph(G)"
   ]
  },
  {
   "cell_type": "markdown",
   "metadata": {
    "slideshow": {
     "slide_type": "slide"
    }
   },
   "source": [
    "### 無向グラフ"
   ]
  },
  {
   "cell_type": "markdown",
   "metadata": {},
   "source": [
    "すべての辺が無向辺であるグラフ"
   ]
  },
  {
   "cell_type": "markdown",
   "metadata": {},
   "source": [
    "### 有向グラフ"
   ]
  },
  {
   "cell_type": "markdown",
   "metadata": {},
   "source": [
    "すべての辺が有向辺であるグラフ"
   ]
  },
  {
   "cell_type": "code",
   "execution_count": 76,
   "metadata": {
    "slideshow": {
     "slide_type": "subslide"
    }
   },
   "outputs": [],
   "source": [
    "import networkx as nx\n",
    "from numpy.random import randint\n",
    "n,m  = 5, 10 \n",
    "nodes = [chr(x + ord('a')) for x in range(n)]\n",
    "edges = [map(chr, a + ord('a')) + [{'label':i}] for i,a in enumerate(randint(0,n,(m,2)))]"
   ]
  },
  {
   "cell_type": "code",
   "execution_count": 77,
   "metadata": {},
   "outputs": [
    {
     "data": {
      "image/png": "[encoded data removed]",
      "text/plain": [
       "<IPython.core.display.Image object>"
      ]
     },
     "execution_count": 77,
     "metadata": {},
     "output_type": "execute_result"
    }
   ],
   "source": [
    "G = nx.MultiGraph()\n",
    "G.add_nodes_from(nodes)\n",
    "G.add_edges_from(edges)\n",
    "draw_graph(G)"
   ]
  },
  {
   "cell_type": "code",
   "execution_count": 78,
   "metadata": {},
   "outputs": [
    {
     "data": {
      "image/png": "[encoded data removed]",
      "text/plain": [
       "<IPython.core.display.Image object>"
      ]
     },
     "execution_count": 78,
     "metadata": {},
     "output_type": "execute_result"
    }
   ],
   "source": [
    "G = nx.MultiDiGraph()\n",
    "G.add_nodes_from(nodes)\n",
    "G.add_edges_from(edges)\n",
    "draw_graph(G)"
   ]
  },
  {
   "cell_type": "markdown",
   "metadata": {
    "slideshow": {
     "slide_type": "slide"
    }
   },
   "source": [
    "### 自己ループ"
   ]
  },
  {
   "cell_type": "markdown",
   "metadata": {},
   "source": [
    "辺$e=(u,v)$について,$u=v$であるような場合"
   ]
  },
  {
   "cell_type": "markdown",
   "metadata": {
    "slideshow": {
     "slide_type": "-"
    }
   },
   "source": [
    "### 並列辺（多重辺）"
   ]
  },
  {
   "cell_type": "markdown",
   "metadata": {},
   "source": [
    "辺$e,e'$について，$u \\neq v$,$e=(u,v)$かつ$e'=(u,v)$であるような場合．"
   ]
  },
  {
   "cell_type": "markdown",
   "metadata": {
    "slideshow": {
     "slide_type": "-"
    }
   },
   "source": [
    "### 単純グラフ"
   ]
  },
  {
   "cell_type": "markdown",
   "metadata": {},
   "source": [
    "並列辺も自己ループも持たないグラフ"
   ]
  },
  {
   "cell_type": "markdown",
   "metadata": {},
   "source": [
    "### 多重グラフ"
   ]
  },
  {
   "cell_type": "markdown",
   "metadata": {},
   "source": [
    "並列辺や自己ループを許容するグラフ（を多重グラフを呼ぶことも多い）"
   ]
  },
  {
   "cell_type": "code",
   "execution_count": 46,
   "metadata": {
    "slideshow": {
     "slide_type": "subslide"
    }
   },
   "outputs": [
    {
     "data": {
      "image/png": "[encoded data removed]",
      "text/plain": [
       "<IPython.core.display.Image object>"
      ]
     },
     "execution_count": 46,
     "metadata": {},
     "output_type": "execute_result"
    }
   ],
   "source": [
    "import networkx as nx\n",
    "G = nx.MultiGraph()\n",
    "G.add_nodes_from(['u','v'])\n",
    "G.add_edges_from([('u','v',{'label':'e1'})])\n",
    "\n",
    "draw_graph(G)"
   ]
  },
  {
   "cell_type": "code",
   "execution_count": 47,
   "metadata": {
    "slideshow": {
     "slide_type": "subslide"
    }
   },
   "outputs": [
    {
     "data": {
      "image/png": "[encoded data removed]",
      "text/plain": [
       "<IPython.core.display.Image object>"
      ]
     },
     "execution_count": 47,
     "metadata": {},
     "output_type": "execute_result"
    }
   ],
   "source": [
    "import networkx as nx\n",
    "G = nx.MultiGraph()\n",
    "G.add_nodes_from(['u','v'])\n",
    "G.add_edges_from([('u','v',{'label':'e1'}),('u','v',{'label':'e2'}),('v','v',{'label':'e3'})])\n",
    "\n",
    "draw_graph(G)"
   ]
  },
  {
   "cell_type": "markdown",
   "metadata": {
    "slideshow": {
     "slide_type": "slide"
    }
   },
   "source": [
    "### 部分グラフ"
   ]
  },
  {
   "cell_type": "markdown",
   "metadata": {},
   "source": [
    "グラフ$G_1$がグラフ$G_2$に対して，$V(G_1) \\subseteq V(G_2)$かつ$E(G_1)　\\subseteq E(G_2)$である場合"
   ]
  },
  {
   "cell_type": "markdown",
   "metadata": {},
   "source": [
    "### 真部分グラフ"
   ]
  },
  {
   "cell_type": "markdown",
   "metadata": {},
   "source": [
    "グラフ$G_1$がグラフ$G_2$に対して，$V(G_1) \\subset V(G_2)$かつ$E(G_1)　\\subset E(G_2)$である場合"
   ]
  },
  {
   "cell_type": "code",
   "execution_count": 80,
   "metadata": {
    "slideshow": {
     "slide_type": "subslide"
    }
   },
   "outputs": [
    {
     "data": {
      "image/png": "[encoded data removed]",
      "text/plain": [
       "<matplotlib.figure.Figure at 0x7f00e36d7e50>"
      ]
     },
     "metadata": {},
     "output_type": "display_data"
    }
   ],
   "source": [
    "%matplotlib inline\n",
    "import networkx as nx\n",
    "import numpy as np\n",
    "import matplotlib.pyplot as plt\n",
    "\n",
    "N = 10\n",
    "S = 25\n",
    "\n",
    "G = nx.Graph()\n",
    "G.add_nodes_from(range(N))\n",
    "G.add_edges_from(np.random.randint(N, size=(S,2)))\n",
    "H = G.subgraph(range(N // 2))\n",
    "\n",
    "pos = nx.spring_layout(G)\n",
    "plt.axis(\"off\")\n",
    "nx.draw_networkx(G, pos, alpha=0.3, node_size=300)\n",
    "nx.draw_networkx(H, pos, alpha=0.8, node_size=100)\n",
    "plt.show()"
   ]
  },
  {
   "cell_type": "markdown",
   "metadata": {
    "slideshow": {
     "slide_type": "slide"
    }
   },
   "source": [
    "### パス"
   ]
  },
  {
   "cell_type": "markdown",
   "metadata": {},
   "source": [
    "グラフ$G$の点列$P=(v_1,v_2,...,v_k)$について，全ての辺$(v_i,v_{i+1})(i=1...k-1)$が異なる時．グラフ$G$が有向グラフである時は，有向パスと区別する場合もある．"
   ]
  },
  {
   "cell_type": "markdown",
   "metadata": {},
   "source": [
    "### パスの端点"
   ]
  },
  {
   "cell_type": "markdown",
   "metadata": {},
   "source": [
    "パス$P=(v_1,..v_k)$における点$v_1$,$v_k$"
   ]
  },
  {
   "cell_type": "markdown",
   "metadata": {},
   "source": [
    "### パスの長さ"
   ]
  },
  {
   "cell_type": "markdown",
   "metadata": {},
   "source": [
    "パスに含まれる辺の数 -> (k-1)"
   ]
  },
  {
   "cell_type": "code",
   "execution_count": 84,
   "metadata": {
    "slideshow": {
     "slide_type": "subslide"
    }
   },
   "outputs": [
    {
     "data": {
      "image/png": "[encoded data removed]",
      "text/plain": [
       "<matplotlib.figure.Figure at 0x7f00e47fdf50>"
      ]
     },
     "metadata": {},
     "output_type": "display_data"
    },
    {
     "name": "stdout",
     "output_type": "stream",
     "text": [
      "パスの長さ:4\n"
     ]
    }
   ],
   "source": [
    "%matplotlib inline\n",
    "import networkx as nx\n",
    "import numpy as np\n",
    "import matplotlib.pyplot as plt\n",
    "\n",
    "N = 10\n",
    "S = 25\n",
    "\n",
    "G = nx.Graph()\n",
    "G.add_nodes_from(range(N))\n",
    "G.add_edges_from(np.random.randint(N, size=(S,2)))\n",
    "path = [nx.utils.pairwise(path) for path in nx.algorithms.simple_paths.all_simple_paths(G,0,N-1)][0]\n",
    "pos = nx.spring_layout(G)\n",
    "\n",
    "plt.axis(\"off\")\n",
    "nx.draw_networkx(G, pos, node_size=300)\n",
    "nx.draw_networkx_edges(G, pos, edgelist=path, edge_color='r', width=5)\n",
    "plt.show()\n",
    "print('パスの長さ:%d' % (len(path)))"
   ]
  },
  {
   "cell_type": "markdown",
   "metadata": {
    "slideshow": {
     "slide_type": "slide"
    }
   },
   "source": [
    "### 閉じているパス"
   ]
  },
  {
   "cell_type": "markdown",
   "metadata": {},
   "source": [
    "パス$P=(v_1,v_2,...,v_k)$において，端点$v_1$,$v_k$が一致$(v_1 = v_k)$している場合"
   ]
  },
  {
   "cell_type": "markdown",
   "metadata": {},
   "source": [
    "### 閉路"
   ]
  },
  {
   "cell_type": "markdown",
   "metadata": {},
   "source": [
    "閉じているパス$P=(v_1,v_2,...,v_k)$において，点$v_1, ... , v_{k-1}$が異なる場合.．グラフ$G$が有向グラフである時は，有向閉路と区別する場合もある．"
   ]
  },
  {
   "cell_type": "markdown",
   "metadata": {
    "slideshow": {
     "slide_type": "-"
    }
   },
   "source": [
    "### 単純なパス"
   ]
  },
  {
   "cell_type": "markdown",
   "metadata": {},
   "source": [
    "パス$P=(v_1,v_2,...,v_k)$において，点$v_1, ... , v_k$が異なる場合.以降，パスと単純に述べた場合はこの単純なパスを表す"
   ]
  },
  {
   "cell_type": "code",
   "execution_count": 50,
   "metadata": {
    "slideshow": {
     "slide_type": "subslide"
    }
   },
   "outputs": [
    {
     "data": {
      "image/png": "[encoded data removed]",
      "text/plain": [
       "<matplotlib.figure.Figure at 0x7f00e36aa410>"
      ]
     },
     "metadata": {},
     "output_type": "display_data"
    }
   ],
   "source": [
    "%matplotlib inline\n",
    "import networkx as nx\n",
    "import numpy as np\n",
    "import matplotlib.pyplot as plt\n",
    "\n",
    "N = 15\n",
    "S = 25\n",
    "\n",
    "G = nx.Graph()\n",
    "G.add_nodes_from(range(N))\n",
    "G.add_edges_from(np.random.randint(N, size=(S,2)))\n",
    "path0 = [(0,1), (1,2), (2,3), (3,0)]\n",
    "for e in path0:\n",
    "    G.add_edge(*e)\n",
    "path1 = [(0,9), (9,8), (8,7), (7,4), (4,1), (1,7), (7, 6), (6, 5), (5, 0)]\n",
    "for e in path1:\n",
    "    G.add_edge(*e)\n",
    "path2 = [(0,14), (14,13), (13,12), (12,11)]\n",
    "for e in path2:\n",
    "    G.add_edge(*e)\n",
    "\n",
    "pos = nx.circular_layout(G)\n",
    "plt.axis(\"off\")\n",
    "nx.draw_networkx(G, pos, node_size=300)\n",
    "nx.draw_networkx_edges(G, pos, edgelist=path0, edge_color='r', width=5)\n",
    "nx.draw_networkx_edges(G, pos, edgelist=path1, edge_color='b', width=5)\n",
    "nx.draw_networkx_edges(G, pos, edgelist=path2, edge_color='g', width=5)\n",
    "plt.show()"
   ]
  },
  {
   "cell_type": "markdown",
   "metadata": {
    "slideshow": {
     "slide_type": "slide"
    }
   },
   "source": [
    "### 連結"
   ]
  },
  {
   "cell_type": "markdown",
   "metadata": {},
   "source": [
    "無向グラフ$G$において，任意の点$u,v$に対してパスが存在している場合"
   ]
  },
  {
   "cell_type": "markdown",
   "metadata": {},
   "source": [
    "### 連結成分"
   ]
  },
  {
   "cell_type": "markdown",
   "metadata": {},
   "source": [
    "無向グラフ$G$において，任意の連結である極大な部分グラフ"
   ]
  },
  {
   "cell_type": "code",
   "execution_count": 85,
   "metadata": {},
   "outputs": [
    {
     "data": {
      "image/png": "[encoded data removed]",
      "text/plain": [
       "<matplotlib.figure.Figure at 0x7f00e478be50>"
      ]
     },
     "metadata": {},
     "output_type": "display_data"
    }
   ],
   "source": [
    "%matplotlib inline\n",
    "import networkx as nx\n",
    "import numpy as np\n",
    "import matplotlib.pyplot as plt\n",
    "\n",
    "N = 25\n",
    "S = 20\n",
    "\n",
    "G = nx.Graph()\n",
    "G.add_nodes_from(range(N))\n",
    "G.add_edges_from(np.random.randint(N, size=(S,2)))\n",
    "H = G.subgraph(max(nx.connected_components(G), key=len))\n",
    "\n",
    "pos = nx.spring_layout(G)\n",
    "plt.axis(\"off\")\n",
    "nx.draw_networkx(G, pos, alpha=0.3, node_size=300)\n",
    "nx.draw_networkx(H, pos, alpha=0.8, node_size=100)\n",
    "plt.show()"
   ]
  },
  {
   "cell_type": "markdown",
   "metadata": {
    "slideshow": {
     "slide_type": "slide"
    }
   },
   "source": [
    "### 木"
   ]
  },
  {
   "cell_type": "markdown",
   "metadata": {},
   "source": [
    "閉路のない連結な無向グラフ.$n$個の点をもつ木は$n-1$個の辺を持ち，任意の点$u$,$v$間のパスは一意に定まる．"
   ]
  },
  {
   "cell_type": "markdown",
   "metadata": {},
   "source": [
    "### 根付き木"
   ]
  },
  {
   "cell_type": "markdown",
   "metadata": {},
   "source": [
    "根と呼ばれる１個の特別視された点を持つ木．根付き木では点をノードと呼ぶ．"
   ]
  },
  {
   "cell_type": "code",
   "execution_count": 86,
   "metadata": {},
   "outputs": [
    {
     "data": {
      "image/png": "[encoded data removed]",
      "text/plain": [
       "<matplotlib.figure.Figure at 0x7f00e4863d90>"
      ]
     },
     "metadata": {},
     "output_type": "display_data"
    }
   ],
   "source": [
    "%matplotlib inline\n",
    "import networkx as nx\n",
    "import numpy as np\n",
    "import matplotlib.pyplot as plt\n",
    "\n",
    "N = 10\n",
    "S = 20\n",
    "\n",
    "G = nx.Graph()\n",
    "G.add_nodes_from(range(N))\n",
    "G.add_edges_from(np.random.randint(N, size=(S,2)))\n",
    "T=nx.minimum_spanning_tree(G)\n",
    "\n",
    "pos = nx.spring_layout(G)\n",
    "plt.axis(\"off\")\n",
    "#nx.draw_networkx(G, pos, alpha=0.3, node_size=300)\n",
    "nx.draw_networkx(T, pos, alpha=0.8, node_size=100)\n",
    "plt.show()"
   ]
  },
  {
   "cell_type": "markdown",
   "metadata": {
    "slideshow": {
     "slide_type": "slide"
    }
   },
   "source": [
    "## 親"
   ]
  },
  {
   "cell_type": "markdown",
   "metadata": {},
   "source": [
    "根$r$からノード$v$までのパス$P=(r,...,w,v)$について，$v$に対する$w$の関係．$w=p(v)$と表記する．"
   ]
  },
  {
   "cell_type": "markdown",
   "metadata": {},
   "source": [
    "### 子"
   ]
  },
  {
   "cell_type": "markdown",
   "metadata": {},
   "source": [
    "根$r$からノード$v$までのパス$P=(r,...,w,v)$について，$w$に対する$v$の関係．"
   ]
  },
  {
   "cell_type": "markdown",
   "metadata": {},
   "source": [
    "### 祖先"
   ]
  },
  {
   "cell_type": "markdown",
   "metadata": {},
   "source": [
    "ノード$v$から根$r$までのパス$P=(v,...,r)$上に存在するノード．"
   ]
  },
  {
   "cell_type": "markdown",
   "metadata": {},
   "source": [
    "### 兄弟"
   ]
  },
  {
   "cell_type": "markdown",
   "metadata": {},
   "source": [
    "共通の親を持つノード"
   ]
  },
  {
   "cell_type": "markdown",
   "metadata": {},
   "source": [
    "### 子孫"
   ]
  },
  {
   "cell_type": "markdown",
   "metadata": {},
   "source": [
    "共通の祖先を持つノード"
   ]
  },
  {
   "cell_type": "markdown",
   "metadata": {},
   "source": [
    "### 葉（外点）"
   ]
  },
  {
   "cell_type": "markdown",
   "metadata": {},
   "source": [
    "子を持たないノード"
   ]
  },
  {
   "cell_type": "code",
   "execution_count": 53,
   "metadata": {
    "slideshow": {
     "slide_type": "subslide"
    }
   },
   "outputs": [
    {
     "data": {
      "image/png": "[encoded data removed]",
      "text/plain": [
       "<matplotlib.figure.Figure at 0x7f00e36a2590>"
      ]
     },
     "metadata": {},
     "output_type": "display_data"
    }
   ],
   "source": [
    "%matplotlib inline\n",
    "import matplotlib.pyplot as plt\n",
    "import networkx as nx\n",
    "import numpy as np\n",
    "\n",
    "btree = nx.balanced_tree(3,3)\n",
    "pos=nx.nx_agraph.graphviz_layout(btree)\n",
    "nx.draw(btree,pos,with_labels=False,arrows=False)"
   ]
  },
  {
   "cell_type": "markdown",
   "metadata": {
    "slideshow": {
     "slide_type": "slide"
    }
   },
   "source": [
    "### ノードの深さ"
   ]
  },
  {
   "cell_type": "markdown",
   "metadata": {},
   "source": [
    "ノード$v$の深さ$\\rm depth(v)$は$v$の親$p(v)$を用いて，以下のように定義される.\n",
    "\\begin{equation*}\n",
    "   {\\rm depth}(v) = \\left\\{ \\begin{array}{rl}\n",
    "       0 & \\text{if $v$ is root} \\\\\n",
    "      {\\rm depth}(p(v)) + 1 & \\text{otherwise} \n",
    "    \\end{array} \\right.\n",
    "\\end{equation*}"
   ]
  },
  {
   "cell_type": "markdown",
   "metadata": {},
   "source": [
    "### 根付き木の深さ"
   ]
  },
  {
   "cell_type": "markdown",
   "metadata": {},
   "source": [
    "根付き木に含まれる最大のノードの深さ"
   ]
  },
  {
   "cell_type": "markdown",
   "metadata": {},
   "source": [
    "### 部分木"
   ]
  },
  {
   "cell_type": "markdown",
   "metadata": {},
   "source": [
    "根付き木において，任意のノード$v$の子孫からなる部分グラフ"
   ]
  },
  {
   "cell_type": "markdown",
   "metadata": {
    "slideshow": {
     "slide_type": "-"
    }
   },
   "source": [
    "![cap_tree](./cap_tree.png)"
   ]
  },
  {
   "cell_type": "markdown",
   "metadata": {
    "slideshow": {
     "slide_type": "slide"
    }
   },
   "source": [
    "### 順序木"
   ]
  },
  {
   "cell_type": "markdown",
   "metadata": {},
   "source": [
    "子に順序がある根付き木"
   ]
  },
  {
   "cell_type": "markdown",
   "metadata": {},
   "source": [
    "### 根付き木のラベリング"
   ]
  },
  {
   "cell_type": "markdown",
   "metadata": {},
   "source": [
    "根$r$の$n$個のノードからなる根付き木$T$を入力として，$T$の全てのノードに1から$n$のラベルを割り当てる操作.代表例として，先行順，後行順，幅優先順などがある．"
   ]
  },
  {
   "cell_type": "markdown",
   "metadata": {
    "slideshow": {
     "slide_type": "subslide"
    }
   },
   "source": [
    "### 先行順"
   ]
  },
  {
   "cell_type": "markdown",
   "metadata": {},
   "source": [
    "1. 根$r$に1のラベルをつける\n",
    "1. $i := 1$とする\n",
    "1. \n",
    "    1. $i > k$ならば終了する\n",
    "    1. $i \\leq k$ならば$v_{i}$を根とする$T$の部分木$T_{i}$を再帰的に先行順にラベル付けする\n",
    "    1. $i := i + 1$としてA. に戻る"
   ]
  },
  {
   "cell_type": "markdown",
   "metadata": {},
   "source": [
    "![cap_pre](./cap_pre.png)"
   ]
  },
  {
   "cell_type": "markdown",
   "metadata": {
    "slideshow": {
     "slide_type": "subslide"
    }
   },
   "source": [
    "### 後行順"
   ]
  },
  {
   "cell_type": "markdown",
   "metadata": {},
   "source": [
    "1. $i := 1$とする\n",
    "1. \n",
    "    1. $i > k$ならば3.へ行く\n",
    "    1. $i \\leq k$ならば$v_{i}$を根とする$T$の部分木$T_{i}$を再帰的に後行順にラベル付けする\n",
    "    1. $i := i + 1$としてA. に戻る\n",
    "1. 根$r$に1のラベルをつける"
   ]
  },
  {
   "cell_type": "markdown",
   "metadata": {},
   "source": [
    "![cap_post](./cap_post.png)"
   ]
  },
  {
   "cell_type": "markdown",
   "metadata": {
    "slideshow": {
     "slide_type": "subslide"
    }
   },
   "source": [
    "### 幅優先順"
   ]
  },
  {
   "cell_type": "markdown",
   "metadata": {},
   "source": [
    "1. 根から出発して，深さの小さい順にノードにラベルをつける．同じ深さのノードは左から順にラベルをつける."
   ]
  },
  {
   "cell_type": "markdown",
   "metadata": {},
   "source": [
    "![cap_bfs](./cap_bfs.png)"
   ]
  },
  {
   "cell_type": "markdown",
   "metadata": {
    "slideshow": {
     "slide_type": "slide"
    }
   },
   "source": [
    "## 実装法の確認"
   ]
  },
  {
   "cell_type": "markdown",
   "metadata": {
    "slideshow": {
     "slide_type": "slide"
    }
   },
   "source": [
    "### 有向グラフにおける辺$e$の始点と終点，点$v$を始点とする辺の集合と終点とする辺の集合"
   ]
  },
  {
   "cell_type": "markdown",
   "metadata": {},
   "source": [
    "各辺$e=(u,v)$の始点$\\partial^{+}$，終点$\\partial^{-}$は以下のように表現される\n",
    "\\begin{equation*}\n",
    "      \\partial^{+}(e) = u \\\\\n",
    "      \\partial^{-}(e) = v \n",
    "\\end{equation*}\n",
    "\n",
    "各点$v \\in V(G)$に対して，$v$から出て行く辺の集合$\\delta^{+}(v)$と$v$へ入ってくる辺の集合$\\delta^{-}(v)$は以下のように表現される．\n",
    "\\begin{equation*}\n",
    "      \\delta^{+}(v) = \\left\\{e \\in E(G) | \\partial^{+}(e) = v \\right\\} \\\\\n",
    "      \\delta^{-}(v) = \\left\\{e \\in E(G) | \\partial^{-}(e) = v \\right\\} \\\\\n",
    "\\end{equation*}"
   ]
  },
  {
   "cell_type": "markdown",
   "metadata": {
    "slideshow": {
     "slide_type": "slide"
    }
   },
   "source": [
    "### 有向グラフの完備データ構造"
   ]
  },
  {
   "cell_type": "markdown",
   "metadata": {},
   "source": [
    "$\\partial^{+}$,　$\\partial^{-}$，を配列で，$\\delta^{+}$,$\\delta^{-}$をリストで表現したグラフ構造．"
   ]
  },
  {
   "cell_type": "markdown",
   "metadata": {
    "slideshow": {
     "slide_type": "-"
    }
   },
   "source": [
    "### 有向グラフの標準的データ構造"
   ]
  },
  {
   "cell_type": "markdown",
   "metadata": {},
   "source": [
    "$\\partial^{+}$,　$\\partial^{-}$，を配列で，$\\delta^{+}$をリストで表現したグラフ構造．  \n",
    "各点を終点とする辺の集合を必要としないグラフ・ネットワークアルゴリズムに対してメモリの削減を期待．"
   ]
  },
  {
   "cell_type": "markdown",
   "metadata": {},
   "source": [
    "![cap_impl0](./cap_impl0.png)"
   ]
  },
  {
   "cell_type": "markdown",
   "metadata": {
    "slideshow": {
     "slide_type": "slide"
    }
   },
   "source": [
    "### 無向グラフの標準的データ構造"
   ]
  },
  {
   "cell_type": "markdown",
   "metadata": {},
   "source": [
    "各辺$e=(u,v) \\in E(G)$を２本の辺$e'=2e-1=(v,u)$,$e''=2e=(u,v)$で置き換えた有向グラフ$\\vec{G}$を求め，前述の有向グラフの標準的データ構造を用いる．この時以下のようになる．\n",
    "\\begin{equation*}\n",
    "      E(\\vec{G}) = \\bigcup_{e \\in E(G)} \\left\\{e', e'' \\right\\}\n",
    "\\end{equation*}"
   ]
  },
  {
   "cell_type": "markdown",
   "metadata": {},
   "source": [
    "![cap_graph](./cap_graph.png)"
   ]
  },
  {
   "cell_type": "markdown",
   "metadata": {},
   "source": [
    "![cap_graph_array](./cap_graph_array.png)"
   ]
  },
  {
   "cell_type": "markdown",
   "metadata": {
    "slideshow": {
     "slide_type": "slide"
    }
   },
   "source": [
    "### 隣接行列と接続行列"
   ]
  },
  {
   "cell_type": "markdown",
   "metadata": {},
   "source": [
    "有向グラフ$G$の点と辺に以下のように番号が付けられている場合を考える．\n",
    "\n",
    "\\begin{equation*}\n",
    "    V(G) = \\left\\{1,2,...,n\\right\\}\\\\\n",
    "    E(G) = \\left\\{1,2,...,m\\right\\}\n",
    "\\end{equation*}\n",
    "\n",
    "この時，隣接行列$A=(a_{ij})$と(自己ループのない有向グラフの)接続行列$B=(b_{ik})$は以下のように表される．\n",
    "\n",
    "\\begin{equation*}\n",
    "    a_{ij} = \\left\\{\\begin{array} {rl}\n",
    "       1 & \\text{点iと点jが隣接} \\\\\n",
    "       0 & \\text{それ以外}\n",
    "    \\end{array}\\right.\\\\\n",
    "    b_{ik} = \\left\\{\\begin{array} {rl}\n",
    "       1 & \\text{点iが辺kの始点} \\\\\n",
    "       -1 & \\text{点iが辺kの終点} \\\\\n",
    "       0 & \\text{それ以外}\n",
    "    \\end{array}\\right.\\\\\n",
    "\\end{equation*}\n",
    "\n",
    "図1.6のグラフをこの方法で表現するといかのようになる．\n",
    "![cap_mat_dgraph](./cap_mat_dgraph.png)\n",
    "\n",
    "無向グラフにおいても同様に以下のように表現される．\n",
    "\n",
    "\\begin{equation*}\n",
    "    a_{ij} = \\left\\{\\begin{array} {rl}\n",
    "       1 & \\text{点iと点jが隣接} \\\\\n",
    "       0 & \\text{それ以外}\n",
    "    \\end{array}\\right.\\\\\n",
    "    b_{ik} = \\left\\{\\begin{array} {rl}\n",
    "       1 & \\text{点iが辺kの端点} \\\\\n",
    "       0 & \\text{それ以外}\n",
    "    \\end{array}\\right.\\\\\n",
    "\\end{equation*}\n",
    "\n",
    "図1.9のグラフをこの方法で表現するといかのようになる．\n",
    "![cap_mat_dgraph](./cap_mat_graph.png)"
   ]
  },
  {
   "cell_type": "markdown",
   "metadata": {
    "slideshow": {
     "slide_type": "slide"
    }
   },
   "source": [
    "#### compstruct.c\n",
    "~~~c\n",
    "// 有向グラフ入力と完備データ構造構成のプログラムcompstruct.c\n",
    "#include <stdio.h>\n",
    "#define vmaxsize         1000\n",
    "#define emaxsize         2000\n",
    "#include\"DigraphInput.h\"\n",
    "#include\"CompStructLibrary.h\"\n",
    "int main(void){\n",
    "    directed_graph_input(); // 有向グラフの辺数m，点数n，始点，終点が決定される\n",
    "    dicomp_incidence_list_construct(); // 接続辺リストが構成される\n",
    "    dicomp_incidence_list_output();    // 構成された接続辺リストが出力される\n",
    "    return 0;\n",
    "}\n",
    "~~~"
   ]
  },
  {
   "cell_type": "markdown",
   "metadata": {},
   "source": [
    "#### DigraphInput.h\n",
    "~~~c\n",
    "// 有向グラフ入力のライブラリプログラムDigraphInput.h\n",
    "int tail[emaxsize+1], head[emaxsize+1];\n",
    "int m, n;\n",
    "void directed_graph_input(void){// 有向グラフのデータを入力する関数\n",
    "    int a;\n",
    "    printf(\"入力するデータは有向グラフのデータです¥n\");\n",
    "    printf(\"有向グラフの点数nと辺数mを入力してください¥n\");\n",
    "    scanf(\"%d %d\", &n, &m);\n",
    "    printf(\"m本の各辺の始点と終点を入力してください¥n\");\n",
    "    for (a = 1; a <= m; a++) scanf(\"%d %d\", &tail[a], &head[a]);\n",
    "    printf(\"有向グラフの点数n=%d，辺数 m=%d ¥n\",n,m);\n",
    "}\n",
    "~~~"
   ]
  },
  {
   "cell_type": "markdown",
   "metadata": {},
   "source": [
    "#### CompStructLibrary.h\n",
    "~~~c\n",
    "// 完備データ構造構成のライブラリプログラムCompStructLibrary.h\n",
    "int edgefirst[vmaxsize+1], revedgefirst[vmaxsize+1];\n",
    "int edgenext[emaxsize+1], revedgenext[emaxsize+1];\n",
    "void dicomp_incidence_list_construct(void){// 接続辺リストを構成する関数\n",
    "    int a, v;\n",
    "    for (v = 1; v <= n; v++) {// 空のリストに初期設定\n",
    "        edgefirst[v] = 0; revedgefirst[v] = 0;\n",
    "    }\n",
    "    for (a = m; a >= 1; a--) {// 辺aを逆順に見ていきながら\n",
    "        v = tail[a];  // vを始点とする辺のリストの先頭に辺aを挿入\n",
    "        edgenext[a] = edgefirst[v];\n",
    "        edgefirst[v] = a;\n",
    "        v = head[a]; // vを終点とする辺のリストの先頭に辺aを挿入\n",
    "        revedgenext[a] = revedgefirst[v];\n",
    "        revedgefirst[v] = a;\n",
    "    }\n",
    "}\n",
    "void dicomp_incidence_list_output(void){// 接続辺リストを出力する関数\n",
    "    int a, k, v;\n",
    "    printf(\"¥n各点を始点とする辺のリスト¥n\");\n",
    "    printf(\"点v: vを始点とする辺（その終点）の並び¥n\");\n",
    "    for (v = 1; v <= n; v++) {// 各点vを始点とする辺のリストの出力\n",
    "        printf(\"%3d:  \", v);\n",
    "        a = edgefirst[v];\n",
    "        k = 0;\n",
    "        while (a != 0) {\n",
    "            printf(\"%3d (%3d)  \", a, head[a]);\n",
    "            k++; if (k % 10 == 0) printf(\"¥n    \");\n",
    "            a = edgenext[a];\n",
    "        }\n",
    "        printf(\"¥n\");\n",
    "    }\n",
    "    printf(\"¥n各点を終点とする辺のリスト¥n\");\n",
    "    printf(\"点v: vを終点とする辺（その始点）の並び¥n\");\n",
    "    for (v = 1; v <= n; v++) {// 各点vを終点とする辺のリストの出力\n",
    "        printf(\"%3d:  \", v);\n",
    "        a = revedgefirst[v];\n",
    "        k = 0;\n",
    "        while (a != 0) {\n",
    "            printf(\"%3d (%3d)  \", a, tail[a]);\n",
    "            k++;\n",
    "            if (k % 10 == 0) printf(\"¥n    \");\n",
    "            a = revedgenext[a];\n",
    "        }\n",
    "        printf(\"¥n\");\n",
    "    }\n",
    "}\n",
    "~~~"
   ]
  },
  {
   "cell_type": "markdown",
   "metadata": {
    "slideshow": {
     "slide_type": "slide"
    }
   },
   "source": [
    "<center> \n",
    "    <div class=big-sentence>ご静聴ありがとうございました</div>\n",
    "</center>"
   ]
  },
  {
   "cell_type": "code",
   "execution_count": null,
   "metadata": {},
   "outputs": [],
   "source": []
  }
 ],
 "metadata": {
  "celltoolbar": "Slideshow",
  "kernelspec": {
   "display_name": "Python 2",
   "language": "python",
   "name": "python2"
  },
  "language_info": {
   "codemirror_mode": {
    "name": "ipython",
    "version": 2
   },
   "file_extension": ".py",
   "mimetype": "text/x-python",
   "name": "python",
   "nbconvert_exporter": "python",
   "pygments_lexer": "ipython2",
   "version": "2.7.12"
  },
  "latex_envs": {
   "LaTeX_envs_menu_present": true,
   "autoclose": false,
   "autocomplete": true,
   "bibliofile": "biblio.bib",
   "cite_by": "apalike",
   "current_citInitial": 1,
   "eqLabelWithNumbers": true,
   "eqNumInitial": 1,
   "hotkeys": {
    "equation": "Ctrl-E",
    "itemize": "Ctrl-I"
   },
   "labels_anchors": false,
   "latex_user_defs": false,
   "report_style_numbering": false,
   "user_envs_cfg": false
  }
 },
 "nbformat": 4,
 "nbformat_minor": 2
}
