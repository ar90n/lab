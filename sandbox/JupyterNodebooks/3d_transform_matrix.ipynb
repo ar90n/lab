{
 "cells": [
  {
   "cell_type": "markdown",
   "metadata": {},
   "source": [
    "三次元空間における行列演算の復習\n",
    "\n",
    "ぱっと思いつかなかったのでメモ"
   ]
  },
  {
   "cell_type": "markdown",
   "metadata": {},
   "source": [
    "### 任意の単位ベクトルへの射影行列"
   ]
  },
  {
   "cell_type": "markdown",
   "metadata": {},
   "source": [
    "任意の単位ベクトルを$\\vec{n}$とすると，$\\vec{n}$への射影行列$P_{p}$は以下の様に表されます．"
   ]
  },
  {
   "cell_type": "markdown",
   "metadata": {},
   "source": [
    "$$\n",
    "P_{p} = \\vec{n}\\vec{n}^{T}\n",
    "$$"
   ]
  },
  {
   "cell_type": "markdown",
   "metadata": {},
   "source": [
    "### 法線ベクトルに直交する平面への射影行列"
   ]
  },
  {
   "cell_type": "markdown",
   "metadata": {},
   "source": [
    "法線ベクトルへの射影を元のベクトルから引くことで，法線ベクトルと直交する平面への射影が可能となります．  \n",
    "そのため，法線ベクトルと直交する平面への射影行列$P_{o}$は以下のように表されます．"
   ]
  },
  {
   "cell_type": "markdown",
   "metadata": {},
   "source": [
    "$$\n",
    "P_{o} = I - P_{p}\n",
    "    = I - \\vec{n}\\vec{n}^{T}\n",
    "$$"
   ]
  },
  {
   "cell_type": "markdown",
   "metadata": {},
   "source": [
    "### 任意の単位ベクトルを回転軸として回転行列"
   ]
  },
  {
   "cell_type": "markdown",
   "metadata": {},
   "source": [
    "任意の単位ベクトル$\\vec{n}$を以下のように定義します．\n",
    "$$\n",
    "\\vec{n} = \\left(n_x, n_y, n_z \\right) \n",
    "$$"
   ]
  },
  {
   "cell_type": "code",
   "execution_count": 7,
   "metadata": {},
   "outputs": [
    {
     "data": {
      "text/plain": [
       "\\left(\\mathit{nx},\\,\\mathit{ny},\\,\\mathit{nz}\\right)"
      ]
     },
     "execution_count": 7,
     "metadata": {},
     "output_type": "execute_result"
    }
   ],
   "source": [
    "var('nx ny nz')\n",
    "assume((nx,'real') ,(ny,'real') ,(nz,'real'))\n",
    "n = vector([nx,ny,nz])\n",
    "latex(n)"
   ]
  },
  {
   "cell_type": "markdown",
   "metadata": {},
   "source": [
    "ここで，Z軸方向の単位ベクトル$\\vec{e_{z}}$を$\\vec{n}$に変換する行列$P$を考えます．  \n",
    "$P$はY軸回転$R_{y}$とZ軸回転$R_{z}$の積で以下のように表現できます．"
   ]
  },
  {
   "cell_type": "code",
   "execution_count": 3,
   "metadata": {
    "collapsed": true
   },
   "outputs": [],
   "source": [
    "cos_theta = n[0] / n[0:2].norm()\n",
    "sin_theta = n[1] / n[0:2].norm()\n",
    "cos_phi = n[2] / n.norm()\n",
    "sin_phi = n[0:2].norm() / n.norm()\n",
    "Rxz = matrix([[cos_phi, 0, sin_phi],[0,1,0],[-sin_phi,0,cos_phi]])\n",
    "Rxy = matrix([[cos_theta, -sin_theta, 0], [sin_theta, cos_theta,0],[0,0,1]])\n",
    "P = Rxy * Rxz"
   ]
  },
  {
   "cell_type": "markdown",
   "metadata": {},
   "source": [
    "$P$によって変換されたZ軸を$\\vec{e_{z}'}(=\\vec{n})$とすると，所望の任意の単位ベクトルを回転軸とする回転行列は以下の３つの変換の合成で表すことができます．\n",
    "\n",
    "1. $\\vec{e_{z}}$を$\\vec{e_{z}}'$に変換する$P$\n",
    "2. $\\vec{e_{z}}$を回転軸とする回転$R_{\\theta}$\n",
    "3. $\\vec{e_{z}}'$を$\\vec{e_{z}}$に変換する$P^{T}$\n",
    "\n",
    "したがって，最終的な回転行列$R$は以下のように表されます．"
   ]
  },
  {
   "cell_type": "code",
   "execution_count": 4,
   "metadata": {
    "collapsed": true
   },
   "outputs": [],
   "source": [
    "var('theta')\n",
    "Rtheta = matrix([[cos(theta), -sin(theta), 0], [sin(theta), cos(theta), 0], [0,0,1]])"
   ]
  },
  {
   "cell_type": "code",
   "execution_count": 5,
   "metadata": {
    "scrolled": true
   },
   "outputs": [
    {
     "data": {
      "text/html": [
       "<html><script type=\"math/tex; mode=display\">\\newcommand{\\Bold}[1]{\\mathbf{#1}}\\left(\\begin{array}{rrr}\n",
       "\\mathit{nx}^{2} + {\\left(\\mathit{ny}^{2} + \\mathit{nz}^{2}\\right)} \\cos\\left(\\theta\\right) & -\\mathit{nx} \\mathit{ny} \\cos\\left(\\theta\\right) + \\mathit{nx} \\mathit{ny} - {\\left(\\mathit{nz}^{3} + {\\left(\\mathit{nx}^{2} + \\mathit{ny}^{2}\\right)} \\mathit{nz}\\right)} \\sin\\left(\\theta\\right) & -\\mathit{nx} \\mathit{nz} \\cos\\left(\\theta\\right) + \\mathit{nx} \\mathit{nz} + \\mathit{ny} \\sin\\left(\\theta\\right) \\\\\n",
       "-\\mathit{nx} \\mathit{ny} \\cos\\left(\\theta\\right) + \\mathit{nx} \\mathit{ny} + {\\left(\\mathit{nz}^{3} + {\\left(\\mathit{nx}^{2} + \\mathit{ny}^{2}\\right)} \\mathit{nz}\\right)} \\sin\\left(\\theta\\right) & \\mathit{ny}^{2} + {\\left(\\mathit{nx}^{2} + \\mathit{nz}^{2}\\right)} \\cos\\left(\\theta\\right) & -\\mathit{ny} \\mathit{nz} \\cos\\left(\\theta\\right) + \\mathit{ny} \\mathit{nz} - \\mathit{nx} \\sin\\left(\\theta\\right) \\\\\n",
       "-\\mathit{nx} \\mathit{nz} \\cos\\left(\\theta\\right) + \\mathit{nx} \\mathit{nz} - {\\left(\\mathit{nx}^{2} \\mathit{ny} + \\mathit{ny}^{3} + \\mathit{ny} \\mathit{nz}^{2}\\right)} \\sin\\left(\\theta\\right) & -\\mathit{ny} \\mathit{nz} \\cos\\left(\\theta\\right) + \\mathit{ny} \\mathit{nz} + {\\left(\\mathit{nx}^{3} + \\mathit{nx} \\mathit{ny}^{2} + \\mathit{nx} \\mathit{nz}^{2}\\right)} \\sin\\left(\\theta\\right) & \\mathit{nz}^{2} + {\\left(\\mathit{nx}^{2} + \\mathit{ny}^{2}\\right)} \\cos\\left(\\theta\\right)\n",
       "\\end{array}\\right)</script></html>"
      ],
      "text/plain": [
       "[                                  nx^2 + (ny^2 + nz^2)*cos(theta)  -nx*ny*cos(theta) + nx*ny - (nz^3 + (nx^2 + ny^2)*nz)*sin(theta)                         -nx*nz*cos(theta) + nx*nz + ny*sin(theta)]\n",
       "[ -nx*ny*cos(theta) + nx*ny + (nz^3 + (nx^2 + ny^2)*nz)*sin(theta)                                   ny^2 + (nx^2 + nz^2)*cos(theta)                         -ny*nz*cos(theta) + ny*nz - nx*sin(theta)]\n",
       "[-nx*nz*cos(theta) + nx*nz - (nx^2*ny + ny^3 + ny*nz^2)*sin(theta) -ny*nz*cos(theta) + ny*nz + (nx^3 + nx*ny^2 + nx*nz^2)*sin(theta)                                   nz^2 + (nx^2 + ny^2)*cos(theta)]"
      ]
     },
     "metadata": {},
     "output_type": "display_data"
    }
   ],
   "source": [
    "R = (P * Rtheta * P.T).simplify_full().subs(nx*nx+ny*ny+nz*nz==1)\n",
    "show(R)"
   ]
  },
  {
   "cell_type": "code",
   "execution_count": 8,
   "metadata": {},
   "outputs": [
    {
     "data": {
      "text/plain": [
       "\\left(\\begin{array}{rrr}\n",
       "\\mathit{nx}^{2} + {\\left(\\mathit{ny}^{2} + \\mathit{nz}^{2}\\right)} \\cos\\left(\\theta\\right) & -\\mathit{nx} \\mathit{ny} \\cos\\left(\\theta\\right) + \\mathit{nx} \\mathit{ny} - {\\left(\\mathit{nz}^{3} + {\\left(\\mathit{nx}^{2} + \\mathit{ny}^{2}\\right)} \\mathit{nz}\\right)} \\sin\\left(\\theta\\right) & -\\mathit{nx} \\mathit{nz} \\cos\\left(\\theta\\right) + \\mathit{nx} \\mathit{nz} + \\mathit{ny} \\sin\\left(\\theta\\right) \\\\\n",
       "-\\mathit{nx} \\mathit{ny} \\cos\\left(\\theta\\right) + \\mathit{nx} \\mathit{ny} + {\\left(\\mathit{nz}^{3} + {\\left(\\mathit{nx}^{2} + \\mathit{ny}^{2}\\right)} \\mathit{nz}\\right)} \\sin\\left(\\theta\\right) & \\mathit{ny}^{2} + {\\left(\\mathit{nx}^{2} + \\mathit{nz}^{2}\\right)} \\cos\\left(\\theta\\right) & -\\mathit{ny} \\mathit{nz} \\cos\\left(\\theta\\right) + \\mathit{ny} \\mathit{nz} - \\mathit{nx} \\sin\\left(\\theta\\right) \\\\\n",
       "-\\mathit{nx} \\mathit{nz} \\cos\\left(\\theta\\right) + \\mathit{nx} \\mathit{nz} - {\\left(\\mathit{nx}^{2} \\mathit{ny} + \\mathit{ny}^{3} + \\mathit{ny} \\mathit{nz}^{2}\\right)} \\sin\\left(\\theta\\right) & -\\mathit{ny} \\mathit{nz} \\cos\\left(\\theta\\right) + \\mathit{ny} \\mathit{nz} + {\\left(\\mathit{nx}^{3} + \\mathit{nx} \\mathit{ny}^{2} + \\mathit{nx} \\mathit{nz}^{2}\\right)} \\sin\\left(\\theta\\right) & \\mathit{nz}^{2} + {\\left(\\mathit{nx}^{2} + \\mathit{ny}^{2}\\right)} \\cos\\left(\\theta\\right)\n",
       "\\end{array}\\right)"
      ]
     },
     "execution_count": 8,
     "metadata": {},
     "output_type": "execute_result"
    }
   ],
   "source": [
    "latex(R)"
   ]
  },
  {
   "cell_type": "code",
   "execution_count": 9,
   "metadata": {},
   "outputs": [
    {
     "data": {
      "text/html": [
       "<html><script type=\"math/tex; mode=display\">\\newcommand{\\Bold}[1]{\\mathbf{#1}}\\left(\\begin{array}{rrr}\n",
       "\\mathit{nx}^{2} + {\\left(\\mathit{ny}^{2} + \\mathit{nz}^{2}\\right)} \\cos\\left(\\theta\\right) & -\\mathit{nx} \\mathit{ny} \\cos\\left(\\theta\\right) + \\mathit{nx} \\mathit{ny} - {\\left(\\mathit{nz}^{3} + {\\left(\\mathit{nx}^{2} + \\mathit{ny}^{2}\\right)} \\mathit{nz}\\right)} \\sin\\left(\\theta\\right) & -\\mathit{nx} \\mathit{nz} \\cos\\left(\\theta\\right) + \\mathit{nx} \\mathit{nz} + \\mathit{ny} \\sin\\left(\\theta\\right) \\\\\n",
       "-\\mathit{nx} \\mathit{ny} \\cos\\left(\\theta\\right) + \\mathit{nx} \\mathit{ny} + {\\left(\\mathit{nz}^{3} + {\\left(\\mathit{nx}^{2} + \\mathit{ny}^{2}\\right)} \\mathit{nz}\\right)} \\sin\\left(\\theta\\right) & \\mathit{ny}^{2} + {\\left(\\mathit{nx}^{2} + \\mathit{nz}^{2}\\right)} \\cos\\left(\\theta\\right) & -\\mathit{ny} \\mathit{nz} \\cos\\left(\\theta\\right) + \\mathit{ny} \\mathit{nz} - \\mathit{nx} \\sin\\left(\\theta\\right) \\\\\n",
       "-\\mathit{nx} \\mathit{nz} \\cos\\left(\\theta\\right) + \\mathit{nx} \\mathit{nz} - {\\left(\\mathit{nx}^{2} \\mathit{ny} + \\mathit{ny}^{3} + \\mathit{ny} \\mathit{nz}^{2}\\right)} \\sin\\left(\\theta\\right) & -\\mathit{ny} \\mathit{nz} \\cos\\left(\\theta\\right) + \\mathit{ny} \\mathit{nz} + {\\left(\\mathit{nx}^{3} + \\mathit{nx} \\mathit{ny}^{2} + \\mathit{nx} \\mathit{nz}^{2}\\right)} \\sin\\left(\\theta\\right) & \\mathit{nz}^{2} + {\\left(\\mathit{nx}^{2} + \\mathit{ny}^{2}\\right)} \\cos\\left(\\theta\\right)\n",
       "\\end{array}\\right)</script></html>"
      ],
      "text/plain": [
       "[                                  nx^2 + (ny^2 + nz^2)*cos(theta)  -nx*ny*cos(theta) + nx*ny - (nz^3 + (nx^2 + ny^2)*nz)*sin(theta)                         -nx*nz*cos(theta) + nx*nz + ny*sin(theta)]\n",
       "[ -nx*ny*cos(theta) + nx*ny + (nz^3 + (nx^2 + ny^2)*nz)*sin(theta)                                   ny^2 + (nx^2 + nz^2)*cos(theta)                         -ny*nz*cos(theta) + ny*nz - nx*sin(theta)]\n",
       "[-nx*nz*cos(theta) + nx*nz - (nx^2*ny + ny^3 + ny*nz^2)*sin(theta) -ny*nz*cos(theta) + ny*nz + (nx^3 + nx*ny^2 + nx*nz^2)*sin(theta)                                   nz^2 + (nx^2 + ny^2)*cos(theta)]"
      ]
     },
     "metadata": {},
     "output_type": "display_data"
    }
   ],
   "source": [
    "var('nx ny nz')\n",
    "assume((nx,'real') ,(ny,'real') ,(nz,'real'))\n",
    "n = vector([nx,ny,nz])\n",
    "cos_theta = n[0] / n[0:2].norm()\n",
    "sin_theta = n[1] / n[0:2].norm()\n",
    "cos_phi = n[2] / n.norm()\n",
    "sin_phi = n[0:2].norm() / n.norm()\n",
    "Rxz = matrix([[cos_phi, 0, sin_phi],[0,1,0],[-sin_phi,0,cos_phi]])\n",
    "Rxy = matrix([[cos_theta, -sin_theta, 0], [sin_theta, cos_theta,0],[0,0,1]])\n",
    "P = Rxy * Rxz\n",
    "var('theta')\n",
    "Rtheta = matrix([[cos(theta), -sin(theta), 0], [sin(theta), cos(theta), 0], [0,0,1]])\n",
    "R = (P * Rtheta * P.T).simplify_full().subs(nx*nx+ny*ny+nz*nz==1)\n",
    "show(R)"
   ]
  },
  {
   "cell_type": "code",
   "execution_count": null,
   "metadata": {
    "collapsed": true
   },
   "outputs": [],
   "source": []
  }
 ],
 "metadata": {
  "kernelspec": {
   "display_name": "SageMath 7.6",
   "language": "",
   "name": "sagemath"
  },
  "language_info": {
   "codemirror_mode": {
    "name": "ipython",
    "version": 2
   },
   "file_extension": ".py",
   "mimetype": "text/x-python",
   "name": "python",
   "nbconvert_exporter": "python",
   "pygments_lexer": "ipython2",
   "version": "2.7.13"
  }
 },
 "nbformat": 4,
 "nbformat_minor": 2
}
