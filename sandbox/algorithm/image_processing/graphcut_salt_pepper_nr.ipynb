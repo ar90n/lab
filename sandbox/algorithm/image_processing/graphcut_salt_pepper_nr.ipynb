{
 "cells": [
  {
   "cell_type": "code",
   "execution_count": 1,
   "metadata": {},
   "outputs": [],
   "source": [
    "import itertools\n",
    "import copy\n",
    "\n",
    "import cv2\n",
    "import numpy as np\n",
    "import matplotlib.pyplot as plt\n",
    "import networkx as nx\n",
    "\n",
    "def create_image():\n",
    "    img = np.zeros( ( 64, 64 ))\n",
    "    img[16:48, 16:48] = 255\n",
    "    img[24:40, 24:40] = 0\n",
    "    noise = np.random.rand(64,64)\n",
    "    img[ noise < 0.1 ] = 0\n",
    "    img[ 0.9 < noise ] = 255\n",
    "    return img\n",
    "\n",
    "def point_to_index( x, y, w, h ):\n",
    "    return y * w + x\n",
    "\n",
    "def index_to_point( index, w, h ):\n",
    "    y = index // w\n",
    "    x = index %  w\n",
    "    return ( x, y )"
   ]
  },
  {
   "cell_type": "code",
   "execution_count": 2,
   "metadata": {},
   "outputs": [
    {
     "data": {
      "text/plain": [
       "<matplotlib.image.AxesImage at 0x7f3d20c080>"
      ]
     },
     "execution_count": 2,
     "metadata": {},
     "output_type": "execute_result"
    },
    {
     "data": {
      "image/png": "[encoded data removed]",
      "text/plain": [
       "<matplotlib.figure.Figure at 0x7f7d1ab4e0>"
      ]
     },
     "metadata": {},
     "output_type": "display_data"
    }
   ],
   "source": [
    "img = create_image()\n",
    "w,h = img.shape\n",
    "plt.imshow(img)"
   ]
  },
  {
   "cell_type": "code",
   "execution_count": 4,
   "metadata": {},
   "outputs": [
    {
     "data": {
      "text/plain": [
       "<matplotlib.image.AxesImage at 0x7f3d193358>"
      ]
     },
     "execution_count": 4,
     "metadata": {},
     "output_type": "execute_result"
    },
    {
     "data": {
      "image/png": "[encoded data removed]",
      "text/plain": [
       "<matplotlib.figure.Figure at 0x7f3d231ba8>"
      ]
     },
     "metadata": {},
     "output_type": "display_data"
    }
   ],
   "source": [
    "st_cost = 10 \n",
    "n_cost  = 9\n",
    "\n",
    "g = nx.DiGraph()\n",
    "g.add_nodes_from( range( w * h * 1 + 2 ) )\n",
    "s = w * h\n",
    "t = s + 1 \n",
    "\n",
    "for x,y in itertools.product( range( w ), range( h ) ):\n",
    "    index = point_to_index( x, y, w, h )\n",
    "    s_cap = 0 if img[y,x] == 0 else st_cost\n",
    "    t_cap = 0 if img[y,x] == 255 else st_cost\n",
    "    g.add_edge( s, index, capacity=s_cap )\n",
    "    g.add_edge( index, t, capacity=t_cap )\n",
    "\n",
    "    neighbor_x = x + 1\n",
    "    neighbor_y = y + 1\n",
    "    if  neighbor_x < w :\n",
    "        n_cap = 0 if img[y,x] == img[y,neighbor_x] else n_cost\n",
    "        neighbor_index = point_to_index( neighbor_x, y, w, h )\n",
    "        g.add_edge( index, neighbor_index, capacity=n_cap)\n",
    "        g.add_edge( neighbor_index, index, capacity=n_cap)\n",
    "        \n",
    "    if  neighbor_y < h:\n",
    "        n_cap = 0 if img[y,x] == img[neighbor_y,x] else n_cost\n",
    "        neighbor_index = point_to_index( x, neighbor_y, w, h )\n",
    "        g.add_edge( index, neighbor_index, capacity=n_cap)\n",
    "        g.add_edge( neighbor_index, index, capacity=n_cap)\n",
    "\n",
    "cut_value, partition = nx.minimum_cut( g, s, t, flow_func=nx.flow.boykov_kolmogorov)\n",
    "reachable, non_reachable = partition\n",
    "\n",
    "res = np.zeros(img.shape)\n",
    "for ind in reachable:\n",
    "    if ind != s:\n",
    "        x,y = index_to_point( ind, w, h )\n",
    "        res[y,x] = 255\n",
    "plt.imshow(res)\n"
   ]
  },
  {
   "cell_type": "code",
   "execution_count": null,
   "metadata": {},
   "outputs": [],
   "source": []
  }
 ],
 "metadata": {
  "kernelspec": {
   "display_name": "Python 3",
   "language": "python",
   "name": "python3"
  },
  "language_info": {
   "codemirror_mode": {
    "name": "ipython",
    "version": 3
   },
   "file_extension": ".py",
   "mimetype": "text/x-python",
   "name": "python",
   "nbconvert_exporter": "python",
   "pygments_lexer": "ipython3",
   "version": "3.5.2"
  },
  "latex_envs": {
   "LaTeX_envs_menu_present": true,
   "autoclose": false,
   "autocomplete": true,
   "bibliofile": "biblio.bib",
   "cite_by": "apalike",
   "current_citInitial": 1,
   "eqLabelWithNumbers": true,
   "eqNumInitial": 1,
   "hotkeys": {
    "equation": "Ctrl-E",
    "itemize": "Ctrl-I"
   },
   "labels_anchors": false,
   "latex_user_defs": false,
   "report_style_numbering": false,
   "user_envs_cfg": false
  }
 },
 "nbformat": 4,
 "nbformat_minor": 2
}
