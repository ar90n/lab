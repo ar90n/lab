{
 "cells": [
  {
   "cell_type": "code",
   "execution_count": 1,
   "metadata": {
    "collapsed": true
   },
   "outputs": [],
   "source": [
    "import halide as h"
   ]
  },
  {
   "cell_type": "code",
   "execution_count": 2,
   "metadata": {
    "collapsed": true
   },
   "outputs": [],
   "source": [
    "gradient = h.Func(\"gradient\")\n",
    "x,y = h.Var(\"x\"), h.Var(\"y\")\n",
    "e = x + y\n",
    "assert type(e) == h.Expr\n",
    "gradient[x,y] = e"
   ]
  },
  {
   "cell_type": "code",
   "execution_count": 4,
   "metadata": {},
   "outputs": [],
   "source": [
    "output = gradient.realize(800,600)\n",
    "assert type(output) == h.Buffer_int32"
   ]
  },
  {
   "cell_type": "code",
   "execution_count": 5,
   "metadata": {},
   "outputs": [
    {
     "ename": "SyntaxError",
     "evalue": "'return' outside function (<ipython-input-5-d4e068a7f2b4>, line 9)",
     "output_type": "error",
     "traceback": [
      "\u001b[0;36m  File \u001b[0;32m\"<ipython-input-5-d4e068a7f2b4>\"\u001b[0;36m, line \u001b[0;32m9\u001b[0m\n\u001b[0;31m    return -1\u001b[0m\n\u001b[0m    ^\u001b[0m\n\u001b[0;31mSyntaxError\u001b[0m\u001b[0;31m:\u001b[0m 'return' outside function\n"
     ]
    }
   ],
   "source": [
    "for j in range(output.height()):\n",
    "    for i in range(output.width()):\n",
    "        # We can access a pixel of an Buffer object using similar\n",
    "        # syntax to defining and using functions.\n",
    "        if (output(i, j) != i + j):\n",
    "            print(\"Something went wrong!\\n\"\n",
    "                   \"Pixel %d, %d was supposed to be %d, but instead it's %d\\n\"\n",
    "                    % (i, j, i+j, output(i, j)))\n",
    "            return -1\n",
    "print(\"Success!\")        "
   ]
  },
  {
   "cell_type": "code",
   "execution_count": null,
   "metadata": {
    "collapsed": true
   },
   "outputs": [],
   "source": []
  }
 ],
 "metadata": {
  "kernelspec": {
   "display_name": "Python 3",
   "language": "python",
   "name": "python3"
  },
  "language_info": {
   "codemirror_mode": {
    "name": "ipython",
    "version": 3
   },
   "file_extension": ".py",
   "mimetype": "text/x-python",
   "name": "python",
   "nbconvert_exporter": "python",
   "pygments_lexer": "ipython3",
   "version": "3.5.3"
  }
 },
 "nbformat": 4,
 "nbformat_minor": 2
}
