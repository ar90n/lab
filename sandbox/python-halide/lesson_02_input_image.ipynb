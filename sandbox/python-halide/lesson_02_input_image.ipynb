{
 "cells": [
  {
   "cell_type": "code",
   "execution_count": 1,
   "metadata": {
    "collapsed": true
   },
   "outputs": [],
   "source": [
    "import halide as h\n",
    "import numpy as np\n",
    "from scipy.misc import imread, imsave\n",
    "import os.path"
   ]
  },
  {
   "cell_type": "code",
   "execution_count": 2,
   "metadata": {
    "collapsed": true
   },
   "outputs": [],
   "source": [
    "input_data = imread(\"rgb.png\")\n",
    "assert input_data.dtype == np.uint8"
   ]
  },
  {
   "cell_type": "code",
   "execution_count": 3,
   "metadata": {},
   "outputs": [],
   "source": [
    "input = h.Buffer(input_data)\n",
    "brighter = h.Func(\"brighter\")\n",
    "x, y, c = h.Var(\"x\"), h.Var(\"y\"), h.Var(\"c\")\n",
    "value = input[x,y,c]\n",
    "assert type(value) == h.Expr"
   ]
  },
  {
   "cell_type": "code",
   "execution_count": 4,
   "metadata": {
    "collapsed": true
   },
   "outputs": [],
   "source": [
    "value = h.cast(h.Float(32),value)\n",
    "value = value * 1.5\n",
    "value = h.min( value, 255.0)\n",
    "value = h.cast(h.UInt(8),value)\n",
    "brighter[x,y,c] = value"
   ]
  },
  {
   "cell_type": "code",
   "execution_count": 5,
   "metadata": {},
   "outputs": [],
   "source": [
    "output_image = brighter.realize(input.width(),input.height(),input.channels())\n",
    "assert type(output_image) == h.Buffer_uint8"
   ]
  },
  {
   "cell_type": "code",
   "execution_count": 8,
   "metadata": {},
   "outputs": [
    {
     "name": "stdout",
     "output_type": "stream",
     "text": [
      "Created brighter.png result file.\n",
      "Success!\n"
     ]
    }
   ],
   "source": [
    "output_data = h.buffer_to_ndarray(output_image)\n",
    "imsave(\"brighter.png\", output_data)\n",
    "print(\"Created brighter.png result file.\")\n",
    "print(\"Success!\")"
   ]
  }
 ],
 "metadata": {
  "kernelspec": {
   "display_name": "Python 3",
   "language": "python",
   "name": "python3"
  },
  "language_info": {
   "codemirror_mode": {
    "name": "ipython",
    "version": 3
   },
   "file_extension": ".py",
   "mimetype": "text/x-python",
   "name": "python",
   "nbconvert_exporter": "python",
   "pygments_lexer": "ipython3",
   "version": "3.5.3"
  }
 },
 "nbformat": 4,
 "nbformat_minor": 2
}
