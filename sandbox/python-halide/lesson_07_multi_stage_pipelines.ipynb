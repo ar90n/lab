{
 "cells": [
  {
   "cell_type": "code",
   "execution_count": 1,
   "metadata": {
    "collapsed": true
   },
   "outputs": [],
   "source": [
    "from halide import *\n",
    "from scipy.misc import imread, imsave"
   ]
  },
  {
   "cell_type": "code",
   "execution_count": 2,
   "metadata": {
    "collapsed": true
   },
   "outputs": [],
   "source": [
    "x, y, c = Var(\"x\"), Var(\"y\"), Var(\"c\")\n",
    "image_path = \"./rgb.png\""
   ]
  },
  {
   "cell_type": "code",
   "execution_count": 9,
   "metadata": {},
   "outputs": [],
   "source": [
    "# Now we'll express a multi-stage pipeline that blurs an image\n",
    "# first horizontally, and then vertically.\n",
    "input = Buffer(imread(image_path))\n",
    "assert input.type() == UInt(8)\n",
    "\n",
    "input_16 = Func(\"input_16\")\n",
    "input_16[x,y,c] = cast(UInt(16),input[x,y,c])\n",
    "\n",
    "blur_x = Func(\"blur_x\")\n",
    "blur_x[x,y,c] = (input_16[x-1,y,c] + 2 * input_16[x,y,c] + input_16[x+1,y,c]) /4\n",
    "\n",
    "blur_y = Func(\"blur_y\")\n",
    "blur_y[x,y,c] = (blur_x[x,y-1,c] + 2 * blur_x[x,y,c] + blur_x[x,y+1,c])\n",
    "\n",
    "output = Func(\"output\")\n",
    "output[x,y,c] = cast(UInt(8),blur_x[x,y,c])\n",
    "\n",
    "result = Buffer(UInt(8), input.width() - 2, input.height() - 2, 3)\n",
    "result.set_min(1,1)\n",
    "output.realize(result)"
   ]
  },
  {
   "cell_type": "code",
   "execution_count": 10,
   "metadata": {},
   "outputs": [
    {
     "name": "stdout",
     "output_type": "stream",
     "text": [
      "result.shape (1278, 766, 3)\n",
      "Created blurry_parrot_1.pnt\n"
     ]
    }
   ],
   "source": [
    "result_data = buffer_to_ndarray(result)\n",
    "print(\"result.shape\", result_data.shape)\n",
    "\n",
    "imsave(\"blurry_parrot_1.png\", result_data)\n",
    "print(\"Created blurry_parrot_1.pnt\")"
   ]
  },
  {
   "cell_type": "code",
   "execution_count": 11,
   "metadata": {},
   "outputs": [
    {
     "name": "stdout",
     "output_type": "stream",
     "text": [
      "result.shape (1280, 768, 3)\n",
      "Created blurry_parrot_2.png\n"
     ]
    }
   ],
   "source": [
    "input = Buffer(imread(image_path))\n",
    "assert input.type() == UInt(8)\n",
    "\n",
    "clamped = Func(\"clamped\")\n",
    "clamped_x = clamp(x, 0, input.width() - 1)\n",
    "clamped_y = clamp(y, 0, input.height() - 1)\n",
    "clamped[x,y,c] = input[clamped_x, clamped_y, c]\n",
    "\n",
    "input_16 = Func(\"input_16\")\n",
    "input_16[x,y,c] = cast(UInt(16), clamped[x,y,c])\n",
    "\n",
    "blur_x = Func(\"blur_x\")\n",
    "blur_x[x,y,c] = (input_16[x-1,y,c] + 2 * input_16[x,y,c] + input_16[x+1,y,c]) / 4\n",
    "\n",
    "blur_y = Func(\"blur_y\")\n",
    "blur_y[x,y,c] = (blur_x[x,y-1,c] + 2 * blur_x[x,y,c] + blur_x[x,y+1,c])/4\n",
    "\n",
    "output = Func(\"output\")\n",
    "output[x,y,c] = cast(UInt(8), blur_y[x,y,c])\n",
    "\n",
    "result = output.realize(input.width(), input.height(), 3)\n",
    "result_data = buffer_to_ndarray(result)\n",
    "print(\"result.shape\", result_data.shape)\n",
    "\n",
    "imsave(\"blurry_parrot_2.png\", result_data)\n",
    "print(\"Created blurry_parrot_2.png\")"
   ]
  },
  {
   "cell_type": "code",
   "execution_count": 12,
   "metadata": {},
   "outputs": [
    {
     "name": "stdout",
     "output_type": "stream",
     "text": [
      "Success!\n"
     ]
    }
   ],
   "source": [
    "print(\"Success!\")"
   ]
  },
  {
   "cell_type": "code",
   "execution_count": null,
   "metadata": {
    "collapsed": true
   },
   "outputs": [],
   "source": []
  }
 ],
 "metadata": {
  "kernelspec": {
   "display_name": "Python 3",
   "language": "python",
   "name": "python3"
  },
  "language_info": {
   "codemirror_mode": {
    "name": "ipython",
    "version": 3
   },
   "file_extension": ".py",
   "mimetype": "text/x-python",
   "name": "python",
   "nbconvert_exporter": "python",
   "pygments_lexer": "ipython3",
   "version": "3.5.3"
  }
 },
 "nbformat": 4,
 "nbformat_minor": 2
}
