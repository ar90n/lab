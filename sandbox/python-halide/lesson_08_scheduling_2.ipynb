{
 "cells": [
  {
   "cell_type": "code",
   "execution_count": 2,
   "metadata": {
    "collapsed": true
   },
   "outputs": [],
   "source": [
    "from halide import *\n",
    "import numpy as np\n",
    "import math"
   ]
  },
  {
   "cell_type": "code",
   "execution_count": 3,
   "metadata": {
    "collapsed": true
   },
   "outputs": [],
   "source": [
    "x,y = Var(\"x\"), Var(\"y\")"
   ]
  },
  {
   "cell_type": "code",
   "execution_count": 3,
   "metadata": {},
   "outputs": [
    {
     "name": "stdout",
     "output_type": "stream",
     "text": [
      "==================================================\n",
      "\n",
      "Evaluating producer-consumer pipeline with default schedule\n",
      "\n",
      "Pseudo-code for the schedule:\n",
      "\n"
     ]
    }
   ],
   "source": [
    "print(\"=\" * 50)\n",
    "producer, consumer = Func(\"producer_default\"), Func(\"consumer_default\")\n",
    "producer[x,y] = sqrt(x * y)\n",
    "consumer[x,y] = (producer[x,y] + producer[x,y+1] + producer[x+1,y] + producer[x+1,y+1])\n",
    "\n",
    "consumer.trace_stores()\n",
    "producer.trace_stores()\n",
    "\n",
    "print(\"\\nEvaluating producer-consumer pipeline with default schedule\")\n",
    "consumer.realize(4,4)\n",
    "\n",
    "result = np.empty((4,4), dtype=np.float32)\n",
    "for yy in range(4):\n",
    "    for xx in range(4):\n",
    "        result[yy][xx] = (math.sqrt(xx * yy) + math.sqrt(xx * (yy+1)) + math.sqrt((xx+1) * yy) + math.sqrt((xx+1) * (yy+1)))\n",
    "print()\n",
    "\n",
    "print(\"Pseudo-code for the schedule:\")\n",
    "consumer.print_loop_nest()\n",
    "print()"
   ]
  },
  {
   "cell_type": "code",
   "execution_count": 4,
   "metadata": {},
   "outputs": [
    {
     "name": "stdout",
     "output_type": "stream",
     "text": [
      "==================================================\n",
      "\n",
      "Evaluating producer.compute_root()\n",
      "Pseudo-code for the schedule:\n",
      "\n"
     ]
    }
   ],
   "source": [
    "print(\"=\" * 50)\n",
    "producer, consumer = Func(\"producer_root\"), Func(\"consumer_root\")\n",
    "producer[x,y] = sqrt( x * y )\n",
    "consumer[x,y] = producer[x,y] + producer[x,y+1] + producer[x+1,y] + producer[x+1,y+1]\n",
    "\n",
    "producer.compute_root()\n",
    "\n",
    "consumer.trace_stores()\n",
    "producer.trace_stores()\n",
    "\n",
    "print(\"\\nEvaluating producer.compute_root()\")\n",
    "consumer.realize(4,4)\n",
    "\n",
    "# Equivalnet C:\n",
    "result = np.empty((4,4), dtype=np.float32)\n",
    "producer_storage = np.empty((5,5), dtype = np.float32)\n",
    "for yy in range(5):\n",
    "    for xx in range(5):\n",
    "        producer_storage[yy][xx] = math.sqrt(xx * yy)\n",
    "for yy in range(4):\n",
    "    for xx in range(4):\n",
    "        result[yy][xx] = producer_storage[yy][xx] + producer_storage[yy+1][xx] + producer_storage[yy][xx+1] + producer_storage[yy+1][xx+1]\n",
    "\n",
    "print(\"Pseudo-code for the schedule:\")\n",
    "consumer.print_loop_nest()\n",
    "print()"
   ]
  },
  {
   "cell_type": "code",
   "execution_count": 5,
   "metadata": {},
   "outputs": [
    {
     "name": "stdout",
     "output_type": "stream",
     "text": [
      "==================================================\n",
      "\n",
      "Evaluating producer.compute_at(consumer,y)\n",
      "Pseudo-code for the schedule:\n",
      "\n"
     ]
    }
   ],
   "source": [
    "print(\"=\" * 50)\n",
    "producer, consumer = Func(\"producer_y\"), Func(\"consumer_y\")\n",
    "producer[x,y] = sqrt(x * y)\n",
    "consumer[x,y] = producer[x,y] + producer[x,y+1] + producer[x+1,y] + producer[x+1,y+1]\n",
    "\n",
    "producer.compute_at(consumer, y)\n",
    "\n",
    "producer.trace_stores()\n",
    "consumer.trace_stores()\n",
    "\n",
    "print(\"\\nEvaluating producer.compute_at(consumer,y)\")\n",
    "consumer.realize(4,4)\n",
    "\n",
    "result = np.empty((4,4), dtype=np.float32)\n",
    "\n",
    "for yy in range(4):\n",
    "    producer_storage = np.empty((2,5), dtype=np.float32)\n",
    "    for py in range(yy,yy + 2):\n",
    "        for px in range(5):\n",
    "            producer_storage[py-yy][px] = math.sqrt(px * py)\n",
    "    \n",
    "    for xx in range(4):\n",
    "        result[yy][xx] = producer_storage[0][xx] + producer_storage[1][xx] + producer_storage[0][xx+1] + producer_storage[1][xx+1]\n",
    "\n",
    "print(\"Pseudo-code for the schedule:\")\n",
    "consumer.print_loop_nest()\n",
    "print()"
   ]
  },
  {
   "cell_type": "code",
   "execution_count": 6,
   "metadata": {},
   "outputs": [
    {
     "name": "stdout",
     "output_type": "stream",
     "text": [
      "==================================================\n",
      "\n",
      "Evaluating producer.store_root().compute_at(consumer,y)\n",
      "Pseudo-code for the schedule:\n",
      "\n"
     ]
    }
   ],
   "source": [
    "print(\"=\" * 50)\n",
    "producer, consumer = Func(\"producer_store,root_compute_y\"), Func(\"consumer_store_root_compute_y\")\n",
    "producer[x,y] = sqrt(x * y)\n",
    "consumer[x,y] = producer[x,y] + producer[x,y+1] + producer[x+1,y] + producer[x+1,y+1]\n",
    "\n",
    "producer.store_root()\n",
    "producer.compute_at(consumer, y)\n",
    "\n",
    "producer.trace_stores()\n",
    "consumer.trace_stores()\n",
    "\n",
    "print(\"\\nEvaluating producer.store_root().compute_at(consumer,y)\")\n",
    "consumer.realize(4,4)\n",
    "\n",
    "producer_storage = np.empty((2,5), dtype=np.float32)\n",
    "\n",
    "for yy in range(4):\n",
    "    for py in range(yy, yy + 2):\n",
    "        if yy > 0 and py == yy:\n",
    "            continue\n",
    "        \n",
    "        for px in range(5):\n",
    "            producer_storage[py & 1][px] = math.sqrt(px * py)\n",
    "    for xx in range(4):\n",
    "        result[yy][xx] = producer_storage[yy&1][xx] + producer_storage[(yy+1)&1][xx] + producer_storage[yy&1][xx+1] + producer_storage[(yy+1)&1][xx+1]\n",
    "\n",
    "print(\"Pseudo-code for the schedule:\")\n",
    "consumer.print_loop_nest()\n",
    "print()"
   ]
  },
  {
   "cell_type": "code",
   "execution_count": 7,
   "metadata": {},
   "outputs": [
    {
     "name": "stdout",
     "output_type": "stream",
     "text": [
      "==================================================\n",
      "\n",
      "Evaluating producer.store_root().compute_at(consumer,x)\n",
      "Pseudo-code for the schedule:\n",
      "\n"
     ]
    }
   ],
   "source": [
    "print(\"=\" * 50)\n",
    "producer, consumer = Func(\"producer_store_root_compute_x\"), Func(\"consumer_store_root_compute_x\")\n",
    "producer[x,y] = sqrt(x * y)\n",
    "consumer[x,y] = producer[x,y] + producer[x, y + 1] + producer[x + 1, y] + producer[x+1,y+1]\n",
    "\n",
    "producer.store_root().compute_at(consumer,x)\n",
    "\n",
    "producer.trace_stores()\n",
    "consumer.trace_stores()\n",
    "\n",
    "print(\"\\nEvaluating producer.store_root().compute_at(consumer,x)\")\n",
    "consumer.realize(4,4)\n",
    "\n",
    "result = np.empty((4,4), dtype=np.float32)\n",
    "\n",
    "producer_storage = np.empty((2,5), dtype=np.float32)\n",
    "\n",
    "for yy in range(4):\n",
    "    for xx in range(4):\n",
    "        if (yy == 0) and (xx == 0):\n",
    "            producer_storage[yy][xx] = math.sqrt(xx * yy)\n",
    "        if yy == 0:\n",
    "            producer_storage[yy][xx + 1] = math.sqrt((xx+1) * yy)\n",
    "        if xx == 0:\n",
    "            producer_storage[(yy + 1)&1][xx] = math.sqrt(xx * (yy+1))\n",
    "                                                         \n",
    "        producer_storage[(yy+1)&1][xx+1] = math.sqrt((xx+1) * (yy+1))\n",
    "        result[yy][xx] = (producer_storage[yy & 1][xx] + producer_storage[(yy+1) & 1][xx] + producer_storage[yy & 1][xx+1] + producer_storage[(yy+1) & 1][xx+1])\n",
    "           \n",
    "print(\"Pseudo-code for the schedule:\")\n",
    "consumer.print_loop_nest()\n",
    "print()"
   ]
  },
  {
   "cell_type": "code",
   "execution_count": 8,
   "metadata": {},
   "outputs": [
    {
     "name": "stdout",
     "output_type": "stream",
     "text": [
      "==================================================\n",
      "\n",
      "Evaluating:consumer.tile(x, y, x_outer, y_outer, x_inner, y_inner, 2, 2)producer.compute_at(consumer, x_outer)\n",
      "Pseudo-code for the schedule:\n",
      "\n"
     ]
    }
   ],
   "source": [
    "print(\"=\"*50)\n",
    "producer, consumer = Func(\"producer_tile\"), Func(\"consumer_tile\")\n",
    "producer[x, y] = sqrt(x * y)\n",
    "consumer[x, y] = (producer[x, y] +\n",
    "                  producer[x, y+1] +\n",
    "                  producer[x+1, y] +\n",
    "                  producer[x+1, y+1])\n",
    "\n",
    "x_outer, y_outer = Var(\"x_outer\"), Var(\"y_outer\")\n",
    "x_inner, y_inner = Var(\"x_inner\"), Var(\"y_inner\")\n",
    "consumer.tile(x, y, x_outer, y_outer, x_inner, y_inner, 2, 2)\n",
    "\n",
    "producer.compute_at(consumer, x_outer)\n",
    "\n",
    "producer.trace_stores()\n",
    "consumer.trace_stores()\n",
    "\n",
    "print(\"\\nEvaluating:\"\n",
    "      \"consumer.tile(x, y, x_outer, y_outer, x_inner, y_inner, 2, 2)\"\n",
    "      \"producer.compute_at(consumer, x_outer)\")\n",
    "consumer.realize(4,4)\n",
    "\n",
    "result = np.empty((4,4), dtype=np.float32)\n",
    "for y_outer in range(2):\n",
    "    for x_outer in range(2):\n",
    "        x_base = x_outer * 2\n",
    "        y_base = y_outer * 2\n",
    "        \n",
    "        producer_storage = np.empty((3,3), dtype=np.float32)\n",
    "        for py in range(y_base,y_base + 3):\n",
    "            for px in range(x_base+3):\n",
    "                producer_storage[py-y_base][px-x_base] = math.sqrt(px * py)\n",
    "        \n",
    "        for y_inner in range(2):\n",
    "            for x_inner in range(2):\n",
    "                xx = x_base + x_inner\n",
    "                yy = y_base + y_inner\n",
    "                result[yy][xx] = producer_storage[yy-y_base][xx-x_base] + producer_storage[yy-y_base+1][xx-x_base] + producer_storage[yy-y_base][xx-x_base+1] + producer_storage[yy-y_base+1][xx-x_base+1]\n",
    "\n",
    "print(\"Pseudo-code for the schedule:\")\n",
    "consumer.print_loop_nest()\n",
    "print()"
   ]
  },
  {
   "cell_type": "code",
   "execution_count": 5,
   "metadata": {},
   "outputs": [
    {
     "data": {
      "text/plain": [
       "<halide.Func 'consumer_tile'>"
      ]
     },
     "execution_count": 5,
     "metadata": {},
     "output_type": "execute_result"
    }
   ],
   "source": [
    "#consumer.split(x, x_outer, x_inner, 2)\n",
    "consumer.split(y, y_outer, y_inner, 2)"
   ]
  },
  {
   "cell_type": "code",
   "execution_count": null,
   "metadata": {
    "collapsed": true
   },
   "outputs": [],
   "source": [
    "consumer.split(x, x_outer, x_inner, 2)"
   ]
  },
  {
   "cell_type": "code",
   "execution_count": 3,
   "metadata": {},
   "outputs": [
    {
     "name": "stdout",
     "output_type": "stream",
     "text": [
      "==================================================\n"
     ]
    },
    {
     "data": {
      "text/plain": [
       "<halide.Func 'consumer_tile'>"
      ]
     },
     "execution_count": 3,
     "metadata": {},
     "output_type": "execute_result"
    }
   ],
   "source": [
    "print(\"=\"*50)\n",
    "producer, consumer = Func(\"producer_tile\"), Func(\"consumer_tile\")\n",
    "producer[x, y] = sqrt(x * y)\n",
    "consumer[x, y] = (producer[x, y] +\n",
    "                  producer[x, y+1] +\n",
    "                  producer[x+1, y] +\n",
    "                  producer[x+1, y+1])\n",
    "\n",
    "\n",
    "# Tile the consumer using 2x2 tiles.\n",
    "x_outer, y_outer = Var(\"x_outer\"), Var(\"y_outer\")\n",
    "x_inner, y_inner = Var(\"x_inner\"), Var(\"y_inner\")\n",
    "consumer.tile(x, y, x_outer, y_outer, x_inner, y_inner, 2, 2)"
   ]
  },
  {
   "cell_type": "code",
   "execution_count": 9,
   "metadata": {},
   "outputs": [
    {
     "name": "stdout",
     "output_type": "stream",
     "text": [
      "==================================================\n",
      "Pseudo-code for the schedule:\n",
      "\n"
     ]
    }
   ],
   "source": [
    "print(\"=\"*50)\n",
    "producer, consumer = Func(\"producer_mixed\"), Func(\"consumer_mixed\")\n",
    "producer[x, y] = sqrt(x * y)\n",
    "consumer[x, y] = (producer[x, y] +\n",
    "                  producer[x, y+1] +\n",
    "                  producer[x+1, y] +\n",
    "                  producer[x+1, y+1])\n",
    "\n",
    "# Split the y coordinate of the consumer into strips of 16 scanlines:\n",
    "yo, yi = Var(\"yo\"), Var(\"yi\")\n",
    "consumer.split(y, yo, yi, 16)\n",
    "# Compute the strips using a thread pool and a task queue.\n",
    "consumer.parallel(yo)\n",
    "# Vectorize across x by a factor of four.\n",
    "consumer.vectorize(x, 4)\n",
    "\n",
    "# Now store the producer per-strip. This will be 17 scanlines\n",
    "# of the producer (16+1), but hopefully it will fold down\n",
    "# into a circular buffer of two scanlines:\n",
    "producer.store_at(consumer, yo)\n",
    "# Within each strip, compute the producer per scanline of the\n",
    "# consumer, skipping work done on previous scanlines.\n",
    "producer.compute_at(consumer, yi)\n",
    "# Also vectorize the producer (because sqrt is vectorizable on x86 using SSE).\n",
    "producer.vectorize(x, 4)\n",
    "\n",
    "# Let's leave tracing off this time, because we're going to\n",
    "# evaluate over a larger image.\n",
    "# consumer.trace_stores()\n",
    "# producer.trace_stores()\n",
    "\n",
    "halide_result = consumer.realize(800, 600)\n",
    "\n",
    "# Here's the equivalent (serial) C:\n",
    "\n",
    "c_result = np.empty((600, 800), dtype=np.float32)\n",
    "\n",
    "# For every strip of 16 scanlines\n",
    "for yo in range(600//16 + 1): # (this loop is parallel in the Halide version)\n",
    "    # 16 doesn't divide 600, so push the last slice upwards to fit within [0, 599] (see lesson 05).\n",
    "    y_base = yo * 16\n",
    "    if y_base > (600-16):\n",
    "        y_base = 600-16\n",
    "\n",
    "    # Allocate a two-scanline circular buffer for the producer\n",
    "    producer_storage = np.empty((2, 801), dtype=np.float32)\n",
    "\n",
    "    # For every scanline in the strip of 16:\n",
    "    for yi in range(16):\n",
    "        yy = y_base + yi\n",
    "\n",
    "        for py in range(yy, yy+2):\n",
    "            # Skip scanlines already computed *within this task*\n",
    "            if (yi > 0) and (py == yy):\n",
    "                continue\n",
    "\n",
    "            # Compute this scanline of the producer in 4-wide vectors\n",
    "            for x_vec in range(800//4 + 1):\n",
    "                x_base = x_vec*4\n",
    "                # 4 doesn't divide 801, so push the last vector left (see lesson 05).\n",
    "                if x_base > (801 - 4):\n",
    "                    x_base = 801 - 4\n",
    "\n",
    "                # If you're on x86, Halide generates SSE code for this part:\n",
    "                xx = [x_base + 0, x_base + 1, x_base + 2, x_base + 3]\n",
    "                vec= [math.sqrt(xx[0] * py),\n",
    "                      math.sqrt(xx[1] * py),\n",
    "                      math.sqrt(xx[2] * py),\n",
    "                      math.sqrt(xx[3] * py)]\n",
    "                producer_storage[py & 1][xx[0]] = vec[0]\n",
    "                producer_storage[py & 1][xx[1]] = vec[1]\n",
    "                producer_storage[py & 1][xx[2]] = vec[2]\n",
    "                producer_storage[py & 1][xx[3]] = vec[3]\n",
    "\n",
    "\n",
    "\n",
    "        # Now compute consumer for this scanline:\n",
    "        for x_vec in range(800//4):\n",
    "            x_base = x_vec * 4\n",
    "            # Again, Halide's equivalent here uses SSE.\n",
    "            xx = [x_base, x_base + 1, x_base + 2, x_base + 3]\n",
    "            vec = [\n",
    "                (producer_storage[yy & 1][xx[0]] +\n",
    "                 producer_storage[(yy+1) & 1][xx[0]] +\n",
    "                 producer_storage[yy & 1][xx[0]+1] +\n",
    "                 producer_storage[(yy+1) & 1][xx[0]+1]),\n",
    "                (producer_storage[yy & 1][xx[1]] +\n",
    "                 producer_storage[(yy+1) & 1][xx[1]] +\n",
    "                 producer_storage[yy & 1][xx[1]+1] +\n",
    "                 producer_storage[(yy+1) & 1][xx[1]+1]),\n",
    "                (producer_storage[yy & 1][xx[2]] +\n",
    "                 producer_storage[(yy+1) & 1][xx[2]] +\n",
    "                 producer_storage[yy & 1][xx[2]+1] +\n",
    "                 producer_storage[(yy+1) & 1][xx[2]+1]),\n",
    "                (producer_storage[yy & 1][xx[3]] +\n",
    "                 producer_storage[(yy+1) & 1][xx[3]] +\n",
    "                 producer_storage[yy & 1][xx[3]+1] +\n",
    "                 producer_storage[(yy+1) & 1][xx[3]+1])\n",
    "            ]\n",
    "\n",
    "            c_result[yy][xx[0]] = vec[0]\n",
    "            c_result[yy][xx[1]] = vec[1]\n",
    "            c_result[yy][xx[2]] = vec[2]\n",
    "            c_result[yy][xx[3]] = vec[3]\n",
    "\n",
    "\n",
    "print(\"Pseudo-code for the schedule:\")\n",
    "consumer.print_loop_nest()\n",
    "print()\n",
    "\n",
    "# Look on my code, ye mighty, and despair!\n",
    "\n",
    "# Let's check the C result against the Halide result. Doing\n",
    "# this I found several bugs in my C implementation, which\n",
    "# should tell you something.\n",
    "for yy in range(600):\n",
    "    for xx in range(800):\n",
    "        error = halide_result(xx, yy) - c_result[yy][xx]\n",
    "        # It's floating-point math, so we'll allow some slop:\n",
    "        if (error < -0.001) or (error > 0.001):\n",
    "            raise Exception(\"halide_result(%d, %d) = %f instead of %f\" % (\n",
    "                   xx, yy, halide_result(xx, yy), c_result[yy][xx]))"
   ]
  },
  {
   "cell_type": "code",
   "execution_count": null,
   "metadata": {
    "collapsed": true
   },
   "outputs": [],
   "source": []
  }
 ],
 "metadata": {
  "kernelspec": {
   "display_name": "Python 3",
   "language": "python",
   "name": "python3"
  },
  "language_info": {
   "codemirror_mode": {
    "name": "ipython",
    "version": 3
   },
   "file_extension": ".py",
   "mimetype": "text/x-python",
   "name": "python",
   "nbconvert_exporter": "python",
   "pygments_lexer": "ipython3",
   "version": "3.5.3"
  }
 },
 "nbformat": 4,
 "nbformat_minor": 2
}
